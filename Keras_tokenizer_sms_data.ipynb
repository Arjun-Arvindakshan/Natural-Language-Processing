{
 "cells": [
  {
   "cell_type": "code",
   "execution_count": 1,
   "metadata": {
    "colab": {
     "base_uri": "https://localhost:8080/",
     "height": 34
    },
    "colab_type": "code",
    "id": "pE-ypPRQ-xIh",
    "outputId": "36123468-a3e4-47eb-e4e4-ae8f6feaeb82"
   },
   "outputs": [
    {
     "name": "stdout",
     "output_type": "stream",
     "text": [
      "Drive already mounted at /content/drive; to attempt to forcibly remount, call drive.mount(\"/content/drive\", force_remount=True).\n"
     ]
    }
   ],
   "source": [
    "from google.colab import drive\n",
    "drive.mount('/content/drive')"
   ]
  },
  {
   "cell_type": "code",
   "execution_count": 0,
   "metadata": {
    "colab": {},
    "colab_type": "code",
    "id": "Hjo9z_v7-eca"
   },
   "outputs": [],
   "source": [
    "import numpy as np\n",
    "np.set_printoptions(precision=2)\n",
    "import pandas as pd\n",
    "import tensorflow as tf\n",
    "from tensorflow import keras"
   ]
  },
  {
   "cell_type": "code",
   "execution_count": 3,
   "metadata": {
    "colab": {
     "base_uri": "https://localhost:8080/",
     "height": 204
    },
    "colab_type": "code",
    "id": "Go94zeTj-ecg",
    "outputId": "ed94a0bc-df97-4a88-eed4-c7a77d654ed0"
   },
   "outputs": [
    {
     "data": {
      "text/html": [
       "<div>\n",
       "<style scoped>\n",
       "    .dataframe tbody tr th:only-of-type {\n",
       "        vertical-align: middle;\n",
       "    }\n",
       "\n",
       "    .dataframe tbody tr th {\n",
       "        vertical-align: top;\n",
       "    }\n",
       "\n",
       "    .dataframe thead th {\n",
       "        text-align: right;\n",
       "    }\n",
       "</style>\n",
       "<table border=\"1\" class=\"dataframe\">\n",
       "  <thead>\n",
       "    <tr style=\"text-align: right;\">\n",
       "      <th></th>\n",
       "      <th>label</th>\n",
       "      <th>message</th>\n",
       "    </tr>\n",
       "  </thead>\n",
       "  <tbody>\n",
       "    <tr>\n",
       "      <th>0</th>\n",
       "      <td>ham</td>\n",
       "      <td>Go until jurong point, crazy.. Available only ...</td>\n",
       "    </tr>\n",
       "    <tr>\n",
       "      <th>1</th>\n",
       "      <td>ham</td>\n",
       "      <td>Ok lar... Joking wif u oni...</td>\n",
       "    </tr>\n",
       "    <tr>\n",
       "      <th>2</th>\n",
       "      <td>spam</td>\n",
       "      <td>Free entry in 2 a wkly comp to win FA Cup fina...</td>\n",
       "    </tr>\n",
       "    <tr>\n",
       "      <th>3</th>\n",
       "      <td>ham</td>\n",
       "      <td>U dun say so early hor... U c already then say...</td>\n",
       "    </tr>\n",
       "    <tr>\n",
       "      <th>4</th>\n",
       "      <td>ham</td>\n",
       "      <td>Nah I don't think he goes to usf, he lives aro...</td>\n",
       "    </tr>\n",
       "  </tbody>\n",
       "</table>\n",
       "</div>"
      ],
      "text/plain": [
       "  label                                            message\n",
       "0   ham  Go until jurong point, crazy.. Available only ...\n",
       "1   ham                      Ok lar... Joking wif u oni...\n",
       "2  spam  Free entry in 2 a wkly comp to win FA Cup fina...\n",
       "3   ham  U dun say so early hor... U c already then say...\n",
       "4   ham  Nah I don't think he goes to usf, he lives aro..."
      ]
     },
     "execution_count": 3,
     "metadata": {
      "tags": []
     },
     "output_type": "execute_result"
    }
   ],
   "source": [
    "sms_data = pd.read_csv(\"/content/drive/My Drive/NLP/sms.tsv\",names = ['label','message'],sep = '\\t')\n",
    "sms_data.head()"
   ]
  },
  {
   "cell_type": "code",
   "execution_count": 0,
   "metadata": {
    "colab": {},
    "colab_type": "code",
    "id": "A-n6g9XI-eck"
   },
   "outputs": [],
   "source": [
    "# Quick way of converting string label to numeric targets\n",
    "sms_data['target'] = sms_data.label.map({'ham':0, 'spam':1})"
   ]
  },
  {
   "cell_type": "code",
   "execution_count": 5,
   "metadata": {
    "colab": {
     "base_uri": "https://localhost:8080/",
     "height": 204
    },
    "colab_type": "code",
    "id": "oOOM-hVp-ecn",
    "outputId": "e440b097-3eeb-4b54-920d-b4d6c8a142ba"
   },
   "outputs": [
    {
     "data": {
      "text/html": [
       "<div>\n",
       "<style scoped>\n",
       "    .dataframe tbody tr th:only-of-type {\n",
       "        vertical-align: middle;\n",
       "    }\n",
       "\n",
       "    .dataframe tbody tr th {\n",
       "        vertical-align: top;\n",
       "    }\n",
       "\n",
       "    .dataframe thead th {\n",
       "        text-align: right;\n",
       "    }\n",
       "</style>\n",
       "<table border=\"1\" class=\"dataframe\">\n",
       "  <thead>\n",
       "    <tr style=\"text-align: right;\">\n",
       "      <th></th>\n",
       "      <th>label</th>\n",
       "      <th>message</th>\n",
       "      <th>target</th>\n",
       "    </tr>\n",
       "  </thead>\n",
       "  <tbody>\n",
       "    <tr>\n",
       "      <th>0</th>\n",
       "      <td>ham</td>\n",
       "      <td>Go until jurong point, crazy.. Available only ...</td>\n",
       "      <td>0</td>\n",
       "    </tr>\n",
       "    <tr>\n",
       "      <th>1</th>\n",
       "      <td>ham</td>\n",
       "      <td>Ok lar... Joking wif u oni...</td>\n",
       "      <td>0</td>\n",
       "    </tr>\n",
       "    <tr>\n",
       "      <th>2</th>\n",
       "      <td>spam</td>\n",
       "      <td>Free entry in 2 a wkly comp to win FA Cup fina...</td>\n",
       "      <td>1</td>\n",
       "    </tr>\n",
       "    <tr>\n",
       "      <th>3</th>\n",
       "      <td>ham</td>\n",
       "      <td>U dun say so early hor... U c already then say...</td>\n",
       "      <td>0</td>\n",
       "    </tr>\n",
       "    <tr>\n",
       "      <th>4</th>\n",
       "      <td>ham</td>\n",
       "      <td>Nah I don't think he goes to usf, he lives aro...</td>\n",
       "      <td>0</td>\n",
       "    </tr>\n",
       "  </tbody>\n",
       "</table>\n",
       "</div>"
      ],
      "text/plain": [
       "  label                                            message  target\n",
       "0   ham  Go until jurong point, crazy.. Available only ...       0\n",
       "1   ham                      Ok lar... Joking wif u oni...       0\n",
       "2  spam  Free entry in 2 a wkly comp to win FA Cup fina...       1\n",
       "3   ham  U dun say so early hor... U c already then say...       0\n",
       "4   ham  Nah I don't think he goes to usf, he lives aro...       0"
      ]
     },
     "execution_count": 5,
     "metadata": {
      "tags": []
     },
     "output_type": "execute_result"
    }
   ],
   "source": [
    "sms_data.head()"
   ]
  },
  {
   "cell_type": "code",
   "execution_count": 6,
   "metadata": {
    "colab": {
     "base_uri": "https://localhost:8080/",
     "height": 34
    },
    "colab_type": "code",
    "id": "wvf-uX8H-ecr",
    "outputId": "504b3c1c-3aac-420a-83b2-abb531255cb2"
   },
   "outputs": [
    {
     "name": "stdout",
     "output_type": "stream",
     "text": [
      "(5572,) (5572,)\n"
     ]
    }
   ],
   "source": [
    "X = sms_data.message\n",
    "y = sms_data.target\n",
    "\n",
    "print(X.shape, y.shape)"
   ]
  },
  {
   "cell_type": "code",
   "execution_count": 0,
   "metadata": {
    "colab": {},
    "colab_type": "code",
    "id": "8xoCIWzQ-ecu"
   },
   "outputs": [],
   "source": [
    "from sklearn.model_selection import train_test_split"
   ]
  },
  {
   "cell_type": "code",
   "execution_count": 0,
   "metadata": {
    "colab": {},
    "colab_type": "code",
    "id": "klwmHguh-ecz"
   },
   "outputs": [],
   "source": [
    "X_train,X_test,y_train,y_test = train_test_split(X,y,test_size = 0.2,stratify = y,random_state =42)"
   ]
  },
  {
   "cell_type": "code",
   "execution_count": 0,
   "metadata": {
    "colab": {},
    "colab_type": "code",
    "id": "_dPMtadU-ec3"
   },
   "outputs": [],
   "source": [
    "kTokernizer = keras.preprocessing.text.Tokenizer()"
   ]
  },
  {
   "cell_type": "code",
   "execution_count": 0,
   "metadata": {
    "colab": {},
    "colab_type": "code",
    "id": "2-I-pxff-ec6"
   },
   "outputs": [],
   "source": [
    "kTokernizer.fit_on_texts(X_train)"
   ]
  },
  {
   "cell_type": "code",
   "execution_count": 0,
   "metadata": {
    "colab": {},
    "colab_type": "code",
    "id": "BI6Bk5ZF-ec9"
   },
   "outputs": [],
   "source": [
    "#print(kTokernizer.word_counts)"
   ]
  },
  {
   "cell_type": "code",
   "execution_count": 12,
   "metadata": {
    "colab": {
     "base_uri": "https://localhost:8080/",
     "height": 51
    },
    "colab_type": "code",
    "id": "t2Vdq5Ht-edB",
    "outputId": "b6a79a87-8be9-4e49-d554-2c04b059e0d8"
   },
   "outputs": [
    {
     "name": "stdout",
     "output_type": "stream",
     "text": [
      "(4457, 7934)\n",
      "(1115, 7934)\n"
     ]
    }
   ],
   "source": [
    "# mode: one of \"binary\", \"count\", \"tfidf\", \"freq\"\n",
    "vect_kTokenizer_train = kTokernizer.texts_to_matrix(X_train, mode='tfidf')\n",
    "vect_kTokenizer_test = kTokernizer.texts_to_matrix(X_test,mode = 'tfidf')\n",
    "# 0 is a reserved index that won't be assigned to any word.\n",
    "print(vect_kTokenizer_train.shape)\n",
    "print(vect_kTokenizer_test.shape)"
   ]
  },
  {
   "cell_type": "markdown",
   "metadata": {
    "colab_type": "text",
    "id": "4fIPNCsc-edE"
   },
   "source": [
    "# Convert tfidf to pandas DataFrame"
   ]
  },
  {
   "cell_type": "code",
   "execution_count": 0,
   "metadata": {
    "colab": {},
    "colab_type": "code",
    "id": "gV0cFXr9-edG"
   },
   "outputs": [],
   "source": [
    "pd_vect_kTokenizer = pd.DataFrame(data=vect_kTokenizer_train[:,1:], columns=[key for key in kTokernizer.word_index])"
   ]
  },
  {
   "cell_type": "code",
   "execution_count": 0,
   "metadata": {
    "colab": {},
    "colab_type": "code",
    "id": "YrkMc4xf-edJ"
   },
   "outputs": [],
   "source": [
    "#pd_vect_kTokenizer"
   ]
  },
  {
   "cell_type": "markdown",
   "metadata": {
    "colab_type": "text",
    "id": "ZKiPceqV-edL"
   },
   "source": [
    "# Using WordEmbedding - a dense vector representation"
   ]
  },
  {
   "cell_type": "code",
   "execution_count": 15,
   "metadata": {
    "colab": {
     "base_uri": "https://localhost:8080/",
     "height": 0
    },
    "colab_type": "code",
    "id": "C6eTUmwV-edM",
    "outputId": "cbd849f8-f3db-4b73-aee3-2b492cacf117"
   },
   "outputs": [
    {
     "data": {
      "text/plain": [
       "(5572,)"
      ]
     },
     "execution_count": 15,
     "metadata": {
      "tags": []
     },
     "output_type": "execute_result"
    }
   ],
   "source": [
    "sms_data['message'].shape"
   ]
  },
  {
   "cell_type": "code",
   "execution_count": 0,
   "metadata": {
    "colab": {},
    "colab_type": "code",
    "id": "6fu8e3Tu-edP"
   },
   "outputs": [],
   "source": [
    "X_train_seq = kTokernizer.texts_to_sequences(X_train)\n",
    "X_test_seq = kTokernizer.texts_to_sequences(X_test)"
   ]
  },
  {
   "cell_type": "code",
   "execution_count": 17,
   "metadata": {
    "colab": {
     "base_uri": "https://localhost:8080/",
     "height": 0
    },
    "colab_type": "code",
    "id": "FqCiA6_0-edS",
    "outputId": "df85f610-f853-40ba-93b9-271818de032e"
   },
   "outputs": [
    {
     "name": "stdout",
     "output_type": "stream",
     "text": [
      "71\n"
     ]
    }
   ],
   "source": [
    "print(kTokernizer.word_index['he'])"
   ]
  },
  {
   "cell_type": "code",
   "execution_count": 18,
   "metadata": {
    "colab": {
     "base_uri": "https://localhost:8080/",
     "height": 0
    },
    "colab_type": "code",
    "id": "LjJJZF03-edW",
    "outputId": "02b6589c-1607-4280-e895-c2d7824d6f5e"
   },
   "outputs": [
    {
     "name": "stdout",
     "output_type": "stream",
     "text": [
      "184    He will, you guys close?\n",
      "Name: message, dtype: object\n",
      "[[71, 32, 3, 338, 669]]\n"
     ]
    }
   ],
   "source": [
    "print(X_train[:1])\n",
    "print(X_train_seq[:1])"
   ]
  },
  {
   "cell_type": "code",
   "execution_count": 0,
   "metadata": {
    "colab": {},
    "colab_type": "code",
    "id": "qT11D5Xb-edZ"
   },
   "outputs": [],
   "source": [
    "maxlen = 50\n",
    "X_train_pad = keras.preprocessing.sequence.pad_sequences(sequences=X_train_seq, maxlen=maxlen)\n",
    "X_test_pad = keras.preprocessing.sequence.pad_sequences(sequences=X_test_seq, maxlen=maxlen)"
   ]
  },
  {
   "cell_type": "code",
   "execution_count": 0,
   "metadata": {
    "colab": {},
    "colab_type": "code",
    "id": "8bCYK-dT-edc"
   },
   "outputs": [],
   "source": [
    "#print(X_train)\n",
    "#print(X_train_seq)\n",
    "#print(X_train_pad)"
   ]
  },
  {
   "cell_type": "code",
   "execution_count": 21,
   "metadata": {
    "colab": {
     "base_uri": "https://localhost:8080/",
     "height": 0
    },
    "colab_type": "code",
    "id": "P6X4HEF7-ede",
    "outputId": "9f60b5c2-f50b-42cb-c678-368daf7e50b6"
   },
   "outputs": [
    {
     "name": "stdout",
     "output_type": "stream",
     "text": [
      "WARNING:tensorflow:From /usr/local/lib/python3.6/dist-packages/tensorflow/python/keras/initializers.py:119: calling RandomUniform.__init__ (from tensorflow.python.ops.init_ops) with dtype is deprecated and will be removed in a future version.\n",
      "Instructions for updating:\n",
      "Call initializer instance with the dtype argument instead of passing it to the constructor\n",
      "Model: \"sequential\"\n",
      "_________________________________________________________________\n",
      "Layer (type)                 Output Shape              Param #   \n",
      "=================================================================\n",
      "embedding (Embedding)        (None, 50, 10)            90090     \n",
      "=================================================================\n",
      "Total params: 90,090\n",
      "Trainable params: 90,090\n",
      "Non-trainable params: 0\n",
      "_________________________________________________________________\n"
     ]
    }
   ],
   "source": [
    "model_embed = keras.models.Sequential()\n",
    "model_embed.add(keras.layers.Embedding(input_dim=9009, output_dim=10, input_length=50))\n",
    "model_embed.summary()"
   ]
  },
  {
   "cell_type": "code",
   "execution_count": 0,
   "metadata": {
    "colab": {},
    "colab_type": "code",
    "id": "eBmbsbf--edm"
   },
   "outputs": [],
   "source": [
    "model_embed.compile('adam', 'mse')\n",
    "#model_embed.fit(X_train_pad, epochs=2)"
   ]
  },
  {
   "cell_type": "code",
   "execution_count": 0,
   "metadata": {
    "colab": {},
    "colab_type": "code",
    "id": "QYpfrAhg-edw"
   },
   "outputs": [],
   "source": [
    "#pd_vect_kTokenizer"
   ]
  },
  {
   "cell_type": "code",
   "execution_count": 0,
   "metadata": {
    "colab": {},
    "colab_type": "code",
    "id": "Il7zLnzI-edz"
   },
   "outputs": [],
   "source": [
    "#print(X_test)\n",
    "#print(X_test_seq)\n",
    "#print(X_test_pad)\n",
    "\n",
    "#model_embed.predict(X_test_pad)"
   ]
  },
  {
   "cell_type": "markdown",
   "metadata": {
    "colab_type": "text",
    "id": "1ikVRRiR-ed3"
   },
   "source": [
    "# logistic regression "
   ]
  },
  {
   "cell_type": "code",
   "execution_count": 0,
   "metadata": {
    "colab": {},
    "colab_type": "code",
    "id": "jCv39ely-ed4"
   },
   "outputs": [],
   "source": [
    "from sklearn.linear_model import LogisticRegression"
   ]
  },
  {
   "cell_type": "code",
   "execution_count": 0,
   "metadata": {
    "colab": {},
    "colab_type": "code",
    "id": "ueMsEkNH-ed8"
   },
   "outputs": [],
   "source": [
    "log_reg = LogisticRegression()"
   ]
  },
  {
   "cell_type": "code",
   "execution_count": 27,
   "metadata": {
    "colab": {
     "base_uri": "https://localhost:8080/",
     "height": 0
    },
    "colab_type": "code",
    "id": "K_Mj6qpA-eeB",
    "outputId": "b4d33b3d-065e-4c0e-fbb7-188eda164b34"
   },
   "outputs": [
    {
     "name": "stderr",
     "output_type": "stream",
     "text": [
      "/usr/local/lib/python3.6/dist-packages/sklearn/linear_model/logistic.py:432: FutureWarning: Default solver will be changed to 'lbfgs' in 0.22. Specify a solver to silence this warning.\n",
      "  FutureWarning)\n",
      "/usr/local/lib/python3.6/dist-packages/sklearn/svm/base.py:929: ConvergenceWarning: Liblinear failed to converge, increase the number of iterations.\n",
      "  \"the number of iterations.\", ConvergenceWarning)\n"
     ]
    },
    {
     "data": {
      "text/plain": [
       "LogisticRegression(C=1.0, class_weight=None, dual=False, fit_intercept=True,\n",
       "                   intercept_scaling=1, l1_ratio=None, max_iter=100,\n",
       "                   multi_class='warn', n_jobs=None, penalty='l2',\n",
       "                   random_state=None, solver='warn', tol=0.0001, verbose=0,\n",
       "                   warm_start=False)"
      ]
     },
     "execution_count": 27,
     "metadata": {
      "tags": []
     },
     "output_type": "execute_result"
    }
   ],
   "source": [
    "log_reg.fit(X_train_pad,y_train)"
   ]
  },
  {
   "cell_type": "code",
   "execution_count": 0,
   "metadata": {
    "colab": {},
    "colab_type": "code",
    "id": "JRCQw6G2-eeH"
   },
   "outputs": [],
   "source": [
    "log_reg_score = log_reg.score(X_test_pad,y_test)"
   ]
  },
  {
   "cell_type": "code",
   "execution_count": 29,
   "metadata": {
    "colab": {
     "base_uri": "https://localhost:8080/",
     "height": 0
    },
    "colab_type": "code",
    "id": "jE93YQzl-eeL",
    "outputId": "afe06adb-46a1-4034-b75f-5033a7bc9db4"
   },
   "outputs": [
    {
     "data": {
      "text/plain": [
       "0.8367713004484305"
      ]
     },
     "execution_count": 29,
     "metadata": {
      "tags": []
     },
     "output_type": "execute_result"
    }
   ],
   "source": [
    "log_reg_score"
   ]
  },
  {
   "cell_type": "code",
   "execution_count": 0,
   "metadata": {
    "colab": {},
    "colab_type": "code",
    "id": "zdkc-fZp-eeP"
   },
   "outputs": [],
   "source": [
    "from sklearn.metrics import confusion_matrix,precision_score,recall_score,f1_score"
   ]
  },
  {
   "cell_type": "code",
   "execution_count": 0,
   "metadata": {
    "colab": {},
    "colab_type": "code",
    "id": "AqB_o6-H-eeU"
   },
   "outputs": [],
   "source": [
    "y_prd_log = log_reg.predict(X_test_pad)"
   ]
  },
  {
   "cell_type": "code",
   "execution_count": 32,
   "metadata": {
    "colab": {
     "base_uri": "https://localhost:8080/",
     "height": 0
    },
    "colab_type": "code",
    "id": "1GgO5oF0-eed",
    "outputId": "61a4a5b4-1bb9-42c7-883e-f966e9218877"
   },
   "outputs": [
    {
     "data": {
      "text/plain": [
       "array([[916,  50],\n",
       "       [132,  17]])"
      ]
     },
     "execution_count": 32,
     "metadata": {
      "tags": []
     },
     "output_type": "execute_result"
    }
   ],
   "source": [
    "confusion_matrix(y_true = y_test,y_pred=y_prd_log)"
   ]
  },
  {
   "cell_type": "code",
   "execution_count": 33,
   "metadata": {
    "colab": {
     "base_uri": "https://localhost:8080/",
     "height": 0
    },
    "colab_type": "code",
    "id": "5iZDWJq0-eel",
    "outputId": "2a113e45-a9e6-4a5e-c66e-d0b9a140729b"
   },
   "outputs": [
    {
     "name": "stdout",
     "output_type": "stream",
     "text": [
      "precision: 0.2537313432835821\n",
      "recall: 0.11409395973154363\n",
      "f1-score: 0.1574074074074074\n"
     ]
    }
   ],
   "source": [
    "print(\"precision:\", precision_score(y_true=y_test, y_pred=y_prd_log))\n",
    "print(\"recall:\", recall_score(y_true=y_test, y_pred=y_prd_log))\n",
    "print(\"f1-score:\", f1_score(y_true=y_test, y_pred=y_prd_log))"
   ]
  },
  {
   "cell_type": "markdown",
   "metadata": {
    "colab_type": "text",
    "id": "iTWtDMUI-eeq"
   },
   "source": [
    " # random forest"
   ]
  },
  {
   "cell_type": "code",
   "execution_count": 0,
   "metadata": {
    "colab": {},
    "colab_type": "code",
    "id": "0RAuClS6-ees"
   },
   "outputs": [],
   "source": [
    "from sklearn.ensemble import RandomForestClassifier"
   ]
  },
  {
   "cell_type": "code",
   "execution_count": 0,
   "metadata": {
    "colab": {},
    "colab_type": "code",
    "id": "odET9p4N-eew"
   },
   "outputs": [],
   "source": [
    "rnd_clf = RandomForestClassifier()"
   ]
  },
  {
   "cell_type": "code",
   "execution_count": 36,
   "metadata": {
    "colab": {
     "base_uri": "https://localhost:8080/",
     "height": 0
    },
    "colab_type": "code",
    "id": "0sP8ch2_-eez",
    "outputId": "cead9c26-7e72-4b81-97e0-462cc5e8c60c"
   },
   "outputs": [
    {
     "name": "stderr",
     "output_type": "stream",
     "text": [
      "/usr/local/lib/python3.6/dist-packages/sklearn/ensemble/forest.py:245: FutureWarning: The default value of n_estimators will change from 10 in version 0.20 to 100 in 0.22.\n",
      "  \"10 in version 0.20 to 100 in 0.22.\", FutureWarning)\n"
     ]
    },
    {
     "data": {
      "text/plain": [
       "RandomForestClassifier(bootstrap=True, class_weight=None, criterion='gini',\n",
       "                       max_depth=None, max_features='auto', max_leaf_nodes=None,\n",
       "                       min_impurity_decrease=0.0, min_impurity_split=None,\n",
       "                       min_samples_leaf=1, min_samples_split=2,\n",
       "                       min_weight_fraction_leaf=0.0, n_estimators=10,\n",
       "                       n_jobs=None, oob_score=False, random_state=None,\n",
       "                       verbose=0, warm_start=False)"
      ]
     },
     "execution_count": 36,
     "metadata": {
      "tags": []
     },
     "output_type": "execute_result"
    }
   ],
   "source": [
    "rnd_clf.fit(X_train_pad,y_train)"
   ]
  },
  {
   "cell_type": "code",
   "execution_count": 0,
   "metadata": {
    "colab": {},
    "colab_type": "code",
    "id": "_psjg_1e-ee2"
   },
   "outputs": [],
   "source": [
    "rnd_clf_score = rnd_clf.score(X_test_pad,y_test)"
   ]
  },
  {
   "cell_type": "code",
   "execution_count": 38,
   "metadata": {
    "colab": {
     "base_uri": "https://localhost:8080/",
     "height": 0
    },
    "colab_type": "code",
    "id": "IBETWAap-ee_",
    "outputId": "4fadb46a-b6b0-43b8-ad58-1b587eb653f6"
   },
   "outputs": [
    {
     "data": {
      "text/plain": [
       "0.9219730941704036"
      ]
     },
     "execution_count": 38,
     "metadata": {
      "tags": []
     },
     "output_type": "execute_result"
    }
   ],
   "source": [
    "rnd_clf_score"
   ]
  },
  {
   "cell_type": "code",
   "execution_count": 0,
   "metadata": {
    "colab": {},
    "colab_type": "code",
    "id": "7dUFHWUA-efD"
   },
   "outputs": [],
   "source": [
    "y_rnd_pred = rnd_clf.predict(X_test_pad)"
   ]
  },
  {
   "cell_type": "code",
   "execution_count": 40,
   "metadata": {
    "colab": {
     "base_uri": "https://localhost:8080/",
     "height": 0
    },
    "colab_type": "code",
    "id": "TMpat5Oq-efL",
    "outputId": "7d9f0a59-1108-4bfd-9cdb-0511603dddd9"
   },
   "outputs": [
    {
     "data": {
      "text/plain": [
       "array([[957,   9],\n",
       "       [ 78,  71]])"
      ]
     },
     "execution_count": 40,
     "metadata": {
      "tags": []
     },
     "output_type": "execute_result"
    }
   ],
   "source": [
    "confusion_matrix(y_true=y_test,y_pred = y_rnd_pred)"
   ]
  },
  {
   "cell_type": "code",
   "execution_count": 41,
   "metadata": {
    "colab": {
     "base_uri": "https://localhost:8080/",
     "height": 0
    },
    "colab_type": "code",
    "id": "EZDE1eie-efT",
    "outputId": "bf73e11c-17f9-4aab-cba9-0b48c5bce6bb"
   },
   "outputs": [
    {
     "name": "stdout",
     "output_type": "stream",
     "text": [
      "precision: 0.8875\n",
      "recall: 0.47651006711409394\n",
      "f1-score: 0.6200873362445415\n"
     ]
    }
   ],
   "source": [
    "print(\"precision:\", precision_score(y_true=y_test, y_pred=y_rnd_pred))\n",
    "print(\"recall:\", recall_score(y_true=y_test, y_pred=y_rnd_pred))\n",
    "print(\"f1-score:\", f1_score(y_true=y_test, y_pred=y_rnd_pred))"
   ]
  },
  {
   "cell_type": "markdown",
   "metadata": {
    "colab_type": "text",
    "id": "NVd7t9aM-efX"
   },
   "source": [
    "# deep learning"
   ]
  },
  {
   "cell_type": "code",
   "execution_count": 42,
   "metadata": {
    "colab": {
     "base_uri": "https://localhost:8080/",
     "height": 428
    },
    "colab_type": "code",
    "id": "GON6rTMm-efY",
    "outputId": "d51141ec-b0ca-4f66-aed1-0f9084a4b6f6"
   },
   "outputs": [
    {
     "name": "stdout",
     "output_type": "stream",
     "text": [
      "WARNING:tensorflow:From /usr/local/lib/python3.6/dist-packages/tensorflow/python/ops/init_ops.py:1251: calling VarianceScaling.__init__ (from tensorflow.python.ops.init_ops) with dtype is deprecated and will be removed in a future version.\n",
      "Instructions for updating:\n",
      "Call initializer instance with the dtype argument instead of passing it to the constructor\n",
      "Model: \"sequential_1\"\n",
      "_________________________________________________________________\n",
      "Layer (type)                 Output Shape              Param #   \n",
      "=================================================================\n",
      "dense (Dense)                (None, 7934)              62956290  \n",
      "_________________________________________________________________\n",
      "dense_1 (Dense)              (None, 2000)              15870000  \n",
      "_________________________________________________________________\n",
      "dense_2 (Dense)              (None, 1000)              2001000   \n",
      "_________________________________________________________________\n",
      "dense_3 (Dense)              (None, 500)               500500    \n",
      "_________________________________________________________________\n",
      "dense_4 (Dense)              (None, 100)               50100     \n",
      "_________________________________________________________________\n",
      "dense_5 (Dense)              (None, 2)                 202       \n",
      "=================================================================\n",
      "Total params: 81,378,092\n",
      "Trainable params: 81,378,092\n",
      "Non-trainable params: 0\n",
      "_________________________________________________________________\n"
     ]
    }
   ],
   "source": [
    "model_dnn = keras.models.Sequential()\n",
    "model_dnn.add(keras.layers.Dense(units = 7934,input_shape =(7934,),activation = 'relu' ))\n",
    "model_dnn.add(keras.layers.Dense(units = 2000,activation='relu'))\n",
    "model_dnn.add(keras.layers.Dense(units = 1000,activation='relu'))\n",
    "model_dnn.add(keras.layers.Dense(units = 500,activation='relu'))\n",
    "model_dnn.add(keras.layers.Dense(units = 100,activation='relu'))\n",
    "model_dnn.add(keras.layers.Dense(units = 2,activation='softmax'))\n",
    "model_dnn.summary()"
   ]
  },
  {
   "cell_type": "code",
   "execution_count": 0,
   "metadata": {
    "colab": {},
    "colab_type": "code",
    "id": "x3OYQjoT-efa"
   },
   "outputs": [],
   "source": [
    "model_dnn.compile(optimizer='adam',loss = 'sparse_categorical_crossentropy',metrics =['accuracy'])"
   ]
  },
  {
   "cell_type": "code",
   "execution_count": 44,
   "metadata": {
    "colab": {
     "base_uri": "https://localhost:8080/",
     "height": 884
    },
    "colab_type": "code",
    "id": "99Z90EV4-efj",
    "outputId": "e11040f9-f1fc-410e-a841-c664d082ed0d"
   },
   "outputs": [
    {
     "name": "stdout",
     "output_type": "stream",
     "text": [
      "Train on 4011 samples, validate on 446 samples\n",
      "Epoch 1/25\n",
      "4011/4011 [==============================] - 4s 879us/sample - loss: 0.1553 - acc: 0.9619 - val_loss: 0.0847 - val_acc: 0.9865\n",
      "Epoch 2/25\n",
      "4011/4011 [==============================] - 3s 756us/sample - loss: 0.0064 - acc: 0.9983 - val_loss: 0.1552 - val_acc: 0.9933\n",
      "Epoch 3/25\n",
      "4011/4011 [==============================] - 3s 762us/sample - loss: 9.2235e-05 - acc: 1.0000 - val_loss: 0.1688 - val_acc: 0.9888\n",
      "Epoch 4/25\n",
      "4011/4011 [==============================] - 3s 763us/sample - loss: 3.4018e-04 - acc: 0.9998 - val_loss: 0.3034 - val_acc: 0.9798\n",
      "Epoch 5/25\n",
      "4011/4011 [==============================] - 3s 765us/sample - loss: 0.0092 - acc: 0.9990 - val_loss: 0.5110 - val_acc: 0.9798\n",
      "Epoch 6/25\n",
      "4011/4011 [==============================] - 3s 763us/sample - loss: 0.0011 - acc: 0.9998 - val_loss: 0.2691 - val_acc: 0.9843\n",
      "Epoch 7/25\n",
      "4011/4011 [==============================] - 3s 761us/sample - loss: 0.0123 - acc: 0.9995 - val_loss: 0.1802 - val_acc: 0.9798\n",
      "Epoch 8/25\n",
      "4011/4011 [==============================] - 3s 760us/sample - loss: 0.0014 - acc: 0.9993 - val_loss: 0.7213 - val_acc: 0.9821\n",
      "Epoch 9/25\n",
      "4011/4011 [==============================] - 3s 757us/sample - loss: 3.7789e-07 - acc: 1.0000 - val_loss: 0.7063 - val_acc: 0.9821\n",
      "Epoch 10/25\n",
      "4011/4011 [==============================] - 3s 768us/sample - loss: 7.8131e-08 - acc: 1.0000 - val_loss: 0.7066 - val_acc: 0.9821\n",
      "Epoch 11/25\n",
      "4011/4011 [==============================] - 3s 763us/sample - loss: 5.5129e-08 - acc: 1.0000 - val_loss: 0.7068 - val_acc: 0.9821\n",
      "Epoch 12/25\n",
      "4011/4011 [==============================] - 3s 767us/sample - loss: 3.9676e-08 - acc: 1.0000 - val_loss: 0.7072 - val_acc: 0.9821\n",
      "Epoch 13/25\n",
      "4011/4011 [==============================] - 3s 769us/sample - loss: 3.1949e-08 - acc: 1.0000 - val_loss: 0.7074 - val_acc: 0.9821\n",
      "Epoch 14/25\n",
      "4011/4011 [==============================] - 3s 764us/sample - loss: 2.6124e-08 - acc: 1.0000 - val_loss: 0.7077 - val_acc: 0.9821\n",
      "Epoch 15/25\n",
      "4011/4011 [==============================] - 3s 765us/sample - loss: 2.1844e-08 - acc: 1.0000 - val_loss: 0.7079 - val_acc: 0.9821\n",
      "Epoch 16/25\n",
      "4011/4011 [==============================] - 3s 765us/sample - loss: 1.8575e-08 - acc: 1.0000 - val_loss: 0.7081 - val_acc: 0.9821\n",
      "Epoch 17/25\n",
      "4011/4011 [==============================] - 3s 764us/sample - loss: 1.5900e-08 - acc: 1.0000 - val_loss: 0.7083 - val_acc: 0.9821\n",
      "Epoch 18/25\n",
      "4011/4011 [==============================] - 3s 764us/sample - loss: 1.3998e-08 - acc: 1.0000 - val_loss: 0.7085 - val_acc: 0.9821\n",
      "Epoch 19/25\n",
      "4011/4011 [==============================] - 3s 759us/sample - loss: 1.2334e-08 - acc: 1.0000 - val_loss: 0.7087 - val_acc: 0.9821\n",
      "Epoch 20/25\n",
      "4011/4011 [==============================] - 3s 765us/sample - loss: 1.0878e-08 - acc: 1.0000 - val_loss: 0.7090 - val_acc: 0.9821\n",
      "Epoch 21/25\n",
      "4011/4011 [==============================] - 3s 760us/sample - loss: 9.7483e-09 - acc: 1.0000 - val_loss: 0.7092 - val_acc: 0.9821\n",
      "Epoch 22/25\n",
      "4011/4011 [==============================] - 3s 763us/sample - loss: 8.6487e-09 - acc: 1.0000 - val_loss: 0.7094 - val_acc: 0.9821\n",
      "Epoch 23/25\n",
      "4011/4011 [==============================] - 3s 764us/sample - loss: 7.7273e-09 - acc: 1.0000 - val_loss: 0.7096 - val_acc: 0.9821\n",
      "Epoch 24/25\n",
      "4011/4011 [==============================] - 3s 769us/sample - loss: 6.9249e-09 - acc: 1.0000 - val_loss: 0.7098 - val_acc: 0.9821\n",
      "Epoch 25/25\n",
      "4011/4011 [==============================] - 3s 766us/sample - loss: 6.3602e-09 - acc: 1.0000 - val_loss: 0.7101 - val_acc: 0.9821\n"
     ]
    }
   ],
   "source": [
    "history_dnn = model_dnn.fit(vect_kTokenizer_train,y_train,epochs = 25,validation_split=0.1)"
   ]
  },
  {
   "cell_type": "code",
   "execution_count": 45,
   "metadata": {
    "colab": {
     "base_uri": "https://localhost:8080/",
     "height": 312
    },
    "colab_type": "code",
    "id": "KuUZkY7NQKXT",
    "outputId": "89a44999-261a-4ef5-f332-803495746470"
   },
   "outputs": [
    {
     "data": {
      "text/plain": [
       "<function matplotlib.pyplot.show>"
      ]
     },
     "execution_count": 45,
     "metadata": {
      "tags": []
     },
     "output_type": "execute_result"
    },
    {
     "data": {
      "image/png": "[encoded data removed]",
      "text/plain": [
       "<Figure size 432x288 with 1 Axes>"
      ]
     },
     "metadata": {
      "tags": []
     },
     "output_type": "display_data"
    }
   ],
   "source": [
    "import pandas as pd\n",
    "import matplotlib.pyplot as plt\n",
    "pd.DataFrame(history_dnn.history).plot()\n",
    "plt.grid(True)\n",
    "plt.xlabel('epochs')\n",
    "plt.ylabel('loss/accuracy')\n",
    "plt.title('training and validation plot')\n",
    "plt.show"
   ]
  },
  {
   "cell_type": "code",
   "execution_count": 46,
   "metadata": {
    "colab": {
     "base_uri": "https://localhost:8080/",
     "height": 34
    },
    "colab_type": "code",
    "id": "48qo4dFK-efo",
    "outputId": "70fa2aea-4db2-4ed3-ea17-81ca60e55d50"
   },
   "outputs": [
    {
     "name": "stdout",
     "output_type": "stream",
     "text": [
      "1115/1115 [==============================] - 0s 149us/sample - loss: 0.5958 - acc: 0.9839\n"
     ]
    }
   ],
   "source": [
    "test_loss,test_accuracy = model_dnn.evaluate(vect_kTokenizer_test,y_test)"
   ]
  },
  {
   "cell_type": "code",
   "execution_count": 47,
   "metadata": {
    "colab": {
     "base_uri": "https://localhost:8080/",
     "height": 51
    },
    "colab_type": "code",
    "id": "0PQCD5Y9QVtp",
    "outputId": "5980e0cb-f1fd-498c-d650-c618be69cac9"
   },
   "outputs": [
    {
     "name": "stdout",
     "output_type": "stream",
     "text": [
      "test_loss:::: 0.5958038940659109\n",
      "test_accuracy:::: 0.9838565\n"
     ]
    }
   ],
   "source": [
    "print(\"test_loss::::\",test_loss)\n",
    "print(\"test_accuracy::::\",test_accuracy)"
   ]
  },
  {
   "cell_type": "markdown",
   "metadata": {
    "colab_type": "text",
    "id": "wdCry3MeRXBT"
   },
   "source": [
    "# RNN"
   ]
  },
  {
   "cell_type": "code",
   "execution_count": 48,
   "metadata": {
    "colab": {
     "base_uri": "https://localhost:8080/",
     "height": 255
    },
    "colab_type": "code",
    "id": "yEgf-vgxQlr5",
    "outputId": "d15262d9-4b99-4ef2-f084-73b2963ec624"
   },
   "outputs": [
    {
     "name": "stdout",
     "output_type": "stream",
     "text": [
      "Model: \"sequential_2\"\n",
      "_________________________________________________________________\n",
      "Layer (type)                 Output Shape              Param #   \n",
      "=================================================================\n",
      "embedding_1 (Embedding)      (None, 50, 10)            90090     \n",
      "_________________________________________________________________\n",
      "lstm (LSTM)                  (None, 32)                5504      \n",
      "_________________________________________________________________\n",
      "dense_6 (Dense)              (None, 1)                 33        \n",
      "=================================================================\n",
      "Total params: 95,627\n",
      "Trainable params: 95,627\n",
      "Non-trainable params: 0\n",
      "_________________________________________________________________\n"
     ]
    }
   ],
   "source": [
    "model_RNN = keras.models.Sequential()\n",
    "model_RNN.add(keras.layers.Embedding(input_dim=9009, output_dim=10,input_length = 50))\n",
    "model_RNN.add(keras.layers.LSTM(32))\n",
    "model_RNN.add(keras.layers.Dense(1, activation=\"sigmoid\"))\n",
    "model_RNN.summary()"
   ]
  },
  {
   "cell_type": "code",
   "execution_count": 49,
   "metadata": {
    "colab": {
     "base_uri": "https://localhost:8080/",
     "height": 88
    },
    "colab_type": "code",
    "id": "2miNEK3blv9i",
    "outputId": "fc3d828d-ac08-43eb-b93a-bef2e4791fe4"
   },
   "outputs": [
    {
     "name": "stdout",
     "output_type": "stream",
     "text": [
      "WARNING:tensorflow:From /usr/local/lib/python3.6/dist-packages/tensorflow/python/ops/nn_impl.py:180: add_dispatch_support.<locals>.wrapper (from tensorflow.python.ops.array_ops) is deprecated and will be removed in a future version.\n",
      "Instructions for updating:\n",
      "Use tf.where in 2.0, which has the same broadcast rule as np.where\n"
     ]
    }
   ],
   "source": [
    "model_RNN.compile(loss=\"binary_crossentropy\", optimizer=\"adam\", metrics=[\"mae\"])"
   ]
  },
  {
   "cell_type": "code",
   "execution_count": 50,
   "metadata": {
    "colab": {
     "base_uri": "https://localhost:8080/",
     "height": 734
    },
    "colab_type": "code",
    "id": "wUeN4thjS6Yb",
    "outputId": "d059426d-667e-47d2-b2cc-6b444d87c622"
   },
   "outputs": [
    {
     "name": "stdout",
     "output_type": "stream",
     "text": [
      "Train on 3565 samples, validate on 892 samples\n",
      "Epoch 1/20\n",
      "3565/3565 [==============================] - 12s 3ms/sample - loss: 0.3369 - mean_absolute_error: 0.2292 - val_loss: 0.1716 - val_mean_absolute_error: 0.1245\n",
      "Epoch 2/20\n",
      "3565/3565 [==============================] - 12s 3ms/sample - loss: 0.1033 - mean_absolute_error: 0.0718 - val_loss: 0.0799 - val_mean_absolute_error: 0.0579\n",
      "Epoch 3/20\n",
      "3565/3565 [==============================] - 11s 3ms/sample - loss: 0.0424 - mean_absolute_error: 0.0288 - val_loss: 0.0780 - val_mean_absolute_error: 0.0334\n",
      "Epoch 4/20\n",
      "3565/3565 [==============================] - 12s 3ms/sample - loss: 0.0243 - mean_absolute_error: 0.0161 - val_loss: 0.0516 - val_mean_absolute_error: 0.0256\n",
      "Epoch 5/20\n",
      "3565/3565 [==============================] - 12s 3ms/sample - loss: 0.0136 - mean_absolute_error: 0.0094 - val_loss: 0.0547 - val_mean_absolute_error: 0.0273\n",
      "Epoch 6/20\n",
      "3565/3565 [==============================] - 12s 3ms/sample - loss: 0.0064 - mean_absolute_error: 0.0051 - val_loss: 0.0577 - val_mean_absolute_error: 0.0185\n",
      "Epoch 7/20\n",
      "3565/3565 [==============================] - 12s 3ms/sample - loss: 0.0034 - mean_absolute_error: 0.0024 - val_loss: 0.0607 - val_mean_absolute_error: 0.0159\n",
      "Epoch 8/20\n",
      "3565/3565 [==============================] - 12s 3ms/sample - loss: 0.0025 - mean_absolute_error: 0.0017 - val_loss: 0.0660 - val_mean_absolute_error: 0.0167\n",
      "Epoch 9/20\n",
      "3565/3565 [==============================] - 12s 3ms/sample - loss: 0.0042 - mean_absolute_error: 0.0030 - val_loss: 0.0586 - val_mean_absolute_error: 0.0201\n",
      "Epoch 10/20\n",
      "3565/3565 [==============================] - 12s 3ms/sample - loss: 0.0026 - mean_absolute_error: 0.0022 - val_loss: 0.0608 - val_mean_absolute_error: 0.0163\n",
      "Epoch 11/20\n",
      "3565/3565 [==============================] - 12s 3ms/sample - loss: 0.0016 - mean_absolute_error: 0.0012 - val_loss: 0.0614 - val_mean_absolute_error: 0.0155\n",
      "Epoch 12/20\n",
      "3565/3565 [==============================] - 12s 3ms/sample - loss: 0.0011 - mean_absolute_error: 8.7505e-04 - val_loss: 0.0672 - val_mean_absolute_error: 0.0206\n",
      "Epoch 13/20\n",
      "3565/3565 [==============================] - 12s 3ms/sample - loss: 9.1950e-04 - mean_absolute_error: 8.2710e-04 - val_loss: 0.0817 - val_mean_absolute_error: 0.0161\n",
      "Epoch 14/20\n",
      "3565/3565 [==============================] - 11s 3ms/sample - loss: 5.4077e-04 - mean_absolute_error: 4.9121e-04 - val_loss: 0.0706 - val_mean_absolute_error: 0.0168\n",
      "Epoch 15/20\n",
      "3565/3565 [==============================] - 12s 3ms/sample - loss: 4.7132e-04 - mean_absolute_error: 4.4817e-04 - val_loss: 0.0787 - val_mean_absolute_error: 0.0153\n",
      "Epoch 16/20\n",
      "3565/3565 [==============================] - 12s 3ms/sample - loss: 3.6859e-04 - mean_absolute_error: 3.4340e-04 - val_loss: 0.0771 - val_mean_absolute_error: 0.0178\n",
      "Epoch 17/20\n",
      "3565/3565 [==============================] - 12s 3ms/sample - loss: 0.0018 - mean_absolute_error: 0.0014 - val_loss: 0.0871 - val_mean_absolute_error: 0.0140\n",
      "Epoch 18/20\n",
      "3565/3565 [==============================] - 12s 3ms/sample - loss: 3.5576e-04 - mean_absolute_error: 3.3098e-04 - val_loss: 0.0814 - val_mean_absolute_error: 0.0151\n",
      "Epoch 19/20\n",
      "3565/3565 [==============================] - 12s 3ms/sample - loss: 2.7257e-04 - mean_absolute_error: 2.5792e-04 - val_loss: 0.0863 - val_mean_absolute_error: 0.0174\n",
      "Epoch 20/20\n",
      "3565/3565 [==============================] - 12s 3ms/sample - loss: 1.8537e-04 - mean_absolute_error: 1.8056e-04 - val_loss: 0.0854 - val_mean_absolute_error: 0.0157\n"
     ]
    }
   ],
   "source": [
    "history_RNN = model_RNN.fit(X_train_pad,y_train,epochs=20,validation_split =0.2)"
   ]
  },
  {
   "cell_type": "code",
   "execution_count": 51,
   "metadata": {
    "colab": {
     "base_uri": "https://localhost:8080/",
     "height": 283
    },
    "colab_type": "code",
    "id": "OwjFvzI8TI08",
    "outputId": "57771964-6d1a-4e5f-ff6c-dccfabd985e1"
   },
   "outputs": [
    {
     "data": {
      "image/png": "[encoded data removed]",
      "text/plain": [
       "<Figure size 432x288 with 1 Axes>"
      ]
     },
     "metadata": {
      "tags": []
     },
     "output_type": "display_data"
    }
   ],
   "source": [
    "pd.DataFrame(history_RNN.history).plot()\n",
    "plt.xlabel(\"epochs\")\n",
    "plt.ylabel(\"loss\")\n",
    "plt.grid(True)\n",
    "plt.savefig(\"f5.png\", format='png', dpi=300)\n",
    "plt.show()"
   ]
  },
  {
   "cell_type": "code",
   "execution_count": 53,
   "metadata": {
    "colab": {
     "base_uri": "https://localhost:8080/",
     "height": 34
    },
    "colab_type": "code",
    "id": "MsL6Jm2NlugD",
    "outputId": "2185771d-5395-43fa-ea98-43a23c9d9b38"
   },
   "outputs": [
    {
     "name": "stdout",
     "output_type": "stream",
     "text": [
      "1115/1115 [==============================] - 1s 1ms/sample - loss: 0.0828 - mean_absolute_error: 0.0130\n"
     ]
    }
   ],
   "source": [
    "mae = model_RNN.evaluate(X_test_pad,y_test)"
   ]
  },
  {
   "cell_type": "code",
   "execution_count": 0,
   "metadata": {
    "colab": {},
    "colab_type": "code",
    "id": "ptL1wmqcos0D"
   },
   "outputs": [],
   "source": []
  }
 ],
 "metadata": {
  "accelerator": "GPU",
  "colab": {
   "collapsed_sections": [
    "ZKiPceqV-edL",
    "1ikVRRiR-ed3",
    "iTWtDMUI-eeq"
   ],
   "name": "Keras_tokenizer_sms_data.ipynb",
   "provenance": [],
   "version": "0.3.2"
  },
  "kernelspec": {
   "display_name": "Python 3",
   "language": "python",
   "name": "python3"
  },
  "language_info": {
   "codemirror_mode": {
    "name": "ipython",
    "version": 3
   },
   "file_extension": ".py",
   "mimetype": "text/x-python",
   "name": "python",
   "nbconvert_exporter": "python",
   "pygments_lexer": "ipython3",
   "version": "3.6.7"
  }
 },
 "nbformat": 4,
 "nbformat_minor": 1
}
