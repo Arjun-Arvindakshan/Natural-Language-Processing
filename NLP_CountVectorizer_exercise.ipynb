{
 "cells": [
  {
   "cell_type": "code",
   "execution_count": 2,
   "metadata": {},
   "outputs": [],
   "source": [
    "import numpy as np\n",
    "import pandas as pd\n",
    "from sklearn.feature_extraction.text import CountVectorizer"
   ]
  },
  {
   "cell_type": "code",
   "execution_count": 4,
   "metadata": {},
   "outputs": [
    {
     "name": "stderr",
     "output_type": "stream",
     "text": [
      "/home/arjun/miniconda3/envs/num_exe/lib/python3.6/site-packages/ipykernel_launcher.py:1: FutureWarning: read_table is deprecated, use read_csv instead, passing sep='\\t'.\n",
      "  \"\"\"Entry point for launching an IPython kernel.\n"
     ]
    },
    {
     "data": {
      "text/html": [
       "<div>\n",
       "<style scoped>\n",
       "    .dataframe tbody tr th:only-of-type {\n",
       "        vertical-align: middle;\n",
       "    }\n",
       "\n",
       "    .dataframe tbody tr th {\n",
       "        vertical-align: top;\n",
       "    }\n",
       "\n",
       "    .dataframe thead th {\n",
       "        text-align: right;\n",
       "    }\n",
       "</style>\n",
       "<table border=\"1\" class=\"dataframe\">\n",
       "  <thead>\n",
       "    <tr style=\"text-align: right;\">\n",
       "      <th></th>\n",
       "      <th>label</th>\n",
       "      <th>message</th>\n",
       "    </tr>\n",
       "  </thead>\n",
       "  <tbody>\n",
       "    <tr>\n",
       "      <th>0</th>\n",
       "      <td>ham</td>\n",
       "      <td>Go until jurong point, crazy.. Available only ...</td>\n",
       "    </tr>\n",
       "    <tr>\n",
       "      <th>1</th>\n",
       "      <td>ham</td>\n",
       "      <td>Ok lar... Joking wif u oni...</td>\n",
       "    </tr>\n",
       "    <tr>\n",
       "      <th>2</th>\n",
       "      <td>spam</td>\n",
       "      <td>Free entry in 2 a wkly comp to win FA Cup fina...</td>\n",
       "    </tr>\n",
       "    <tr>\n",
       "      <th>3</th>\n",
       "      <td>ham</td>\n",
       "      <td>U dun say so early hor... U c already then say...</td>\n",
       "    </tr>\n",
       "    <tr>\n",
       "      <th>4</th>\n",
       "      <td>ham</td>\n",
       "      <td>Nah I don't think he goes to usf, he lives aro...</td>\n",
       "    </tr>\n",
       "  </tbody>\n",
       "</table>\n",
       "</div>"
      ],
      "text/plain": [
       "  label                                            message\n",
       "0   ham  Go until jurong point, crazy.. Available only ...\n",
       "1   ham                      Ok lar... Joking wif u oni...\n",
       "2  spam  Free entry in 2 a wkly comp to win FA Cup fina...\n",
       "3   ham  U dun say so early hor... U c already then say...\n",
       "4   ham  Nah I don't think he goes to usf, he lives aro..."
      ]
     },
     "execution_count": 4,
     "metadata": {},
     "output_type": "execute_result"
    }
   ],
   "source": [
    "sms_data = pd.read_table(\"sms.tsv\", names=['label', 'message'])\n",
    "sms_data.head()"
   ]
  },
  {
   "cell_type": "code",
   "execution_count": 5,
   "metadata": {},
   "outputs": [
    {
     "data": {
      "text/plain": [
       "(5572, 2)"
      ]
     },
     "execution_count": 5,
     "metadata": {},
     "output_type": "execute_result"
    }
   ],
   "source": [
    "sms_data.shape"
   ]
  },
  {
   "cell_type": "code",
   "execution_count": 6,
   "metadata": {},
   "outputs": [],
   "source": [
    "# Quick way of converting string label to numeric targets\n",
    "sms_data['target'] = sms_data.label.map({'ham':0,'spam':1})"
   ]
  },
  {
   "cell_type": "code",
   "execution_count": 7,
   "metadata": {},
   "outputs": [
    {
     "data": {
      "text/html": [
       "<div>\n",
       "<style scoped>\n",
       "    .dataframe tbody tr th:only-of-type {\n",
       "        vertical-align: middle;\n",
       "    }\n",
       "\n",
       "    .dataframe tbody tr th {\n",
       "        vertical-align: top;\n",
       "    }\n",
       "\n",
       "    .dataframe thead th {\n",
       "        text-align: right;\n",
       "    }\n",
       "</style>\n",
       "<table border=\"1\" class=\"dataframe\">\n",
       "  <thead>\n",
       "    <tr style=\"text-align: right;\">\n",
       "      <th></th>\n",
       "      <th>label</th>\n",
       "      <th>message</th>\n",
       "      <th>target</th>\n",
       "    </tr>\n",
       "  </thead>\n",
       "  <tbody>\n",
       "    <tr>\n",
       "      <th>0</th>\n",
       "      <td>ham</td>\n",
       "      <td>Go until jurong point, crazy.. Available only ...</td>\n",
       "      <td>0</td>\n",
       "    </tr>\n",
       "    <tr>\n",
       "      <th>1</th>\n",
       "      <td>ham</td>\n",
       "      <td>Ok lar... Joking wif u oni...</td>\n",
       "      <td>0</td>\n",
       "    </tr>\n",
       "    <tr>\n",
       "      <th>2</th>\n",
       "      <td>spam</td>\n",
       "      <td>Free entry in 2 a wkly comp to win FA Cup fina...</td>\n",
       "      <td>1</td>\n",
       "    </tr>\n",
       "    <tr>\n",
       "      <th>3</th>\n",
       "      <td>ham</td>\n",
       "      <td>U dun say so early hor... U c already then say...</td>\n",
       "      <td>0</td>\n",
       "    </tr>\n",
       "    <tr>\n",
       "      <th>4</th>\n",
       "      <td>ham</td>\n",
       "      <td>Nah I don't think he goes to usf, he lives aro...</td>\n",
       "      <td>0</td>\n",
       "    </tr>\n",
       "  </tbody>\n",
       "</table>\n",
       "</div>"
      ],
      "text/plain": [
       "  label                                            message  target\n",
       "0   ham  Go until jurong point, crazy.. Available only ...       0\n",
       "1   ham                      Ok lar... Joking wif u oni...       0\n",
       "2  spam  Free entry in 2 a wkly comp to win FA Cup fina...       1\n",
       "3   ham  U dun say so early hor... U c already then say...       0\n",
       "4   ham  Nah I don't think he goes to usf, he lives aro...       0"
      ]
     },
     "execution_count": 7,
     "metadata": {},
     "output_type": "execute_result"
    }
   ],
   "source": [
    "sms_data.head()"
   ]
  },
  {
   "cell_type": "code",
   "execution_count": 8,
   "metadata": {},
   "outputs": [],
   "source": [
    "X = sms_data.message\n",
    "y = sms_data.target"
   ]
  },
  {
   "cell_type": "code",
   "execution_count": 9,
   "metadata": {},
   "outputs": [
    {
     "name": "stdout",
     "output_type": "stream",
     "text": [
      "(5572,)\n",
      "(5572,)\n"
     ]
    }
   ],
   "source": [
    "print(X.shape)\n",
    "print(y.shape)"
   ]
  },
  {
   "cell_type": "code",
   "execution_count": 10,
   "metadata": {},
   "outputs": [],
   "source": [
    "from sklearn.model_selection import train_test_split"
   ]
  },
  {
   "cell_type": "code",
   "execution_count": 11,
   "metadata": {},
   "outputs": [],
   "source": [
    "X_train,X_test,y_train,y_test = train_test_split(X,y,test_size = 0.2,stratify = y,random_state = 42)"
   ]
  },
  {
   "cell_type": "code",
   "execution_count": 16,
   "metadata": {},
   "outputs": [
    {
     "data": {
      "text/plain": [
       "CountVectorizer(analyzer='word', binary=False, decode_error='strict',\n",
       "                dtype=<class 'numpy.int64'>, encoding='utf-8', input='content',\n",
       "                lowercase=True, max_df=1.0, max_features=None, min_df=1,\n",
       "                ngram_range=(1, 1), preprocessor=None, stop_words=None,\n",
       "                strip_accents=None, token_pattern='(?u)\\\\b\\\\w\\\\w+\\\\b',\n",
       "                tokenizer=None, vocabulary=None)"
      ]
     },
     "execution_count": 16,
     "metadata": {},
     "output_type": "execute_result"
    }
   ],
   "source": [
    "vect = CountVectorizer()\n",
    "vect.fit(X_train)"
   ]
  },
  {
   "cell_type": "code",
   "execution_count": 17,
   "metadata": {},
   "outputs": [],
   "source": [
    "X_train_dtm = vect.transform(X_train)"
   ]
  },
  {
   "cell_type": "code",
   "execution_count": 18,
   "metadata": {},
   "outputs": [
    {
     "data": {
      "text/plain": [
       "['00',\n",
       " '000',\n",
       " '000pes',\n",
       " '008704050406',\n",
       " '0089',\n",
       " '0121',\n",
       " '01223585236',\n",
       " '01223585334',\n",
       " '02',\n",
       " '0207',\n",
       " '02072069400',\n",
       " '02073162414',\n",
       " '02085076972',\n",
       " '021',\n",
       " '03',\n",
       " '04',\n",
       " '0430',\n",
       " '05',\n",
       " '050703',\n",
       " '0578',\n",
       " '06',\n",
       " '07',\n",
       " '07008009200',\n",
       " '07046744435',\n",
       " '07099833605',\n",
       " '07123456789',\n",
       " '0721072',\n",
       " '07732584351',\n",
       " '07734396839',\n",
       " '07742676969',\n",
       " '07753741225',\n",
       " '07781482378',\n",
       " '07786200117',\n",
       " '077xxx',\n",
       " '078',\n",
       " '07801543489',\n",
       " '07808',\n",
       " '07808247860',\n",
       " '07808726822',\n",
       " '07815296484',\n",
       " '07821230901',\n",
       " '078498',\n",
       " '0789xxxxxxx',\n",
       " '0796xxxxxx',\n",
       " '07xxxxxxxxx',\n",
       " '0800',\n",
       " '08000407165',\n",
       " '08000839402',\n",
       " '08000930705',\n",
       " '08000938767',\n",
       " '08001950382',\n",
       " '08002888812',\n",
       " '08002986030',\n",
       " '08002986906',\n",
       " '08002988890',\n",
       " '08006344447',\n",
       " '0808',\n",
       " '08081263000',\n",
       " '08081560665',\n",
       " '0825',\n",
       " '083',\n",
       " '0844',\n",
       " '08448350055',\n",
       " '08448714184',\n",
       " '0845',\n",
       " '08450542832',\n",
       " '08452810073',\n",
       " '08452810075over18',\n",
       " '0870',\n",
       " '08700469649',\n",
       " '08700621170150p',\n",
       " '08701213186',\n",
       " '08701237397',\n",
       " '08701417012',\n",
       " '08701417012150p',\n",
       " '0870141701216',\n",
       " '087018728737',\n",
       " '0870241182716',\n",
       " '08702840625',\n",
       " '08706091795',\n",
       " '0870737910216yrs',\n",
       " '08707500020',\n",
       " '08707509020',\n",
       " '0870753331018',\n",
       " '08707808226',\n",
       " '08708034412',\n",
       " '08709222922',\n",
       " '08709501522',\n",
       " '0871',\n",
       " '087104711148',\n",
       " '08712101358',\n",
       " '0871212025016',\n",
       " '08712300220',\n",
       " '087123002209am',\n",
       " '08712317606',\n",
       " '08712400200',\n",
       " '08712400602450p',\n",
       " '08712402050',\n",
       " '08712402578',\n",
       " '08712402779',\n",
       " '08712402902',\n",
       " '08712402972',\n",
       " '08712404000',\n",
       " '08712405020',\n",
       " '08712405022',\n",
       " '08712460324',\n",
       " '08712466669',\n",
       " '0871277810710p',\n",
       " '0871277810810',\n",
       " '0871277810910p',\n",
       " '08714342399',\n",
       " '087147123779am',\n",
       " '08714712388',\n",
       " '08714712394',\n",
       " '08714712412',\n",
       " '08714714011',\n",
       " '08715203028',\n",
       " '08715203652',\n",
       " '08715203677',\n",
       " '08715203685',\n",
       " '08715705022',\n",
       " '08717111821',\n",
       " '08717168528',\n",
       " '08717205546',\n",
       " '0871750',\n",
       " '08717507382',\n",
       " '08717509990',\n",
       " '08717898035',\n",
       " '08718711108',\n",
       " '08718720201',\n",
       " '08718723815',\n",
       " '08718725756',\n",
       " '08718726270',\n",
       " '087187262701',\n",
       " '08718726970',\n",
       " '08718726971',\n",
       " '08718726978',\n",
       " '087187272008',\n",
       " '08718727868',\n",
       " '08718727870',\n",
       " '08718727870150ppm',\n",
       " '08718730666',\n",
       " '08718738001',\n",
       " '08718738002',\n",
       " '08718738034',\n",
       " '08719180219',\n",
       " '08719180248',\n",
       " '08719181259',\n",
       " '08719181503',\n",
       " '08719181513',\n",
       " '08719839835',\n",
       " '08719899217',\n",
       " '08719899229',\n",
       " '08719899230',\n",
       " '09',\n",
       " '09041940223',\n",
       " '09050000301',\n",
       " '09050000332',\n",
       " '09050000460',\n",
       " '09050000555',\n",
       " '09050000878',\n",
       " '09050000928',\n",
       " '09050001808',\n",
       " '09050002311',\n",
       " '09050003091',\n",
       " '09050005321',\n",
       " '09050090044',\n",
       " '09050280520',\n",
       " '09053750005',\n",
       " '09056242159',\n",
       " '09057039994',\n",
       " '09058091854',\n",
       " '09058091870',\n",
       " '09058094455',\n",
       " '09058094507',\n",
       " '09058094565',\n",
       " '09058094583',\n",
       " '09058094594',\n",
       " '09058094597',\n",
       " '09058094599',\n",
       " '09058095107',\n",
       " '09058097189',\n",
       " '09058097218',\n",
       " '09058098002',\n",
       " '09058099801',\n",
       " '09061104276',\n",
       " '09061104283',\n",
       " '09061209465',\n",
       " '09061213237',\n",
       " '09061221061',\n",
       " '09061221066',\n",
       " '09061701461',\n",
       " '09061701851',\n",
       " '09061701939',\n",
       " '09061702893',\n",
       " '09061743386',\n",
       " '09061743806',\n",
       " '09061743811',\n",
       " '09061744553',\n",
       " '09061749602',\n",
       " '09061790121',\n",
       " '09061790125',\n",
       " '09063440451',\n",
       " '09063442151',\n",
       " '09063458130',\n",
       " '0906346330',\n",
       " '09064011000',\n",
       " '09064012103',\n",
       " '09064012160',\n",
       " '09064015307',\n",
       " '09064017295',\n",
       " '09064017305',\n",
       " '09064018838',\n",
       " '09064019014',\n",
       " '09064019788',\n",
       " '09065069120',\n",
       " '09065069154',\n",
       " '09065171142',\n",
       " '09065174042',\n",
       " '09065394973',\n",
       " '09065989180',\n",
       " '09065989182',\n",
       " '09066350750',\n",
       " '09066358152',\n",
       " '09066358361',\n",
       " '09066362206',\n",
       " '09066362231',\n",
       " '09066364311',\n",
       " '09066364349',\n",
       " '09066364589',\n",
       " '09066368327',\n",
       " '09066368470',\n",
       " '09066368753',\n",
       " '09066380611',\n",
       " '09066382422',\n",
       " '09066612661',\n",
       " '09066649731from',\n",
       " '09066660100',\n",
       " '09071512432',\n",
       " '09071512433',\n",
       " '09077818151',\n",
       " '09090900040',\n",
       " '09094100151',\n",
       " '09094646899',\n",
       " '09095350301',\n",
       " '09099725823',\n",
       " '09099726395',\n",
       " '09099726481',\n",
       " '09099726553',\n",
       " '09111030116',\n",
       " '09111032124',\n",
       " '09701213186',\n",
       " '0a',\n",
       " '0quit',\n",
       " '10',\n",
       " '100',\n",
       " '1000',\n",
       " '1000call',\n",
       " '1000s',\n",
       " '100p',\n",
       " '100percent',\n",
       " '100txt',\n",
       " '1013',\n",
       " '1030',\n",
       " '10am',\n",
       " '10k',\n",
       " '10p',\n",
       " '10ppm',\n",
       " '10th',\n",
       " '11',\n",
       " '1120',\n",
       " '113',\n",
       " '1131',\n",
       " '114',\n",
       " '116',\n",
       " '11mths',\n",
       " '11pm',\n",
       " '12',\n",
       " '1205',\n",
       " '120p',\n",
       " '121',\n",
       " '1225',\n",
       " '123',\n",
       " '125',\n",
       " '1250',\n",
       " '125gift',\n",
       " '128',\n",
       " '12hours',\n",
       " '12hrs',\n",
       " '12mths',\n",
       " '13',\n",
       " '130',\n",
       " '1327',\n",
       " '139',\n",
       " '14',\n",
       " '140',\n",
       " '1405',\n",
       " '140ppm',\n",
       " '145',\n",
       " '1450',\n",
       " '146tf150p',\n",
       " '14tcr',\n",
       " '14thmarch',\n",
       " '15',\n",
       " '150',\n",
       " '1500',\n",
       " '150p',\n",
       " '150p16',\n",
       " '150pm',\n",
       " '150ppermesssubscription',\n",
       " '150ppm',\n",
       " '150ppmsg',\n",
       " '150pw',\n",
       " '151',\n",
       " '153',\n",
       " '15541',\n",
       " '15pm',\n",
       " '16',\n",
       " '165',\n",
       " '1680',\n",
       " '169',\n",
       " '177',\n",
       " '18',\n",
       " '180',\n",
       " '1843',\n",
       " '18p',\n",
       " '18yrs',\n",
       " '1956669',\n",
       " '1apple',\n",
       " '1b6a5ecef91ff9',\n",
       " '1cup',\n",
       " '1da',\n",
       " '1er',\n",
       " '1hr',\n",
       " '1im',\n",
       " '1lemon',\n",
       " '1mega',\n",
       " '1million',\n",
       " '1pm',\n",
       " '1st',\n",
       " '1stchoice',\n",
       " '1stone',\n",
       " '1thing',\n",
       " '1tulsi',\n",
       " '1win150ppmx3',\n",
       " '1winaweek',\n",
       " '1x150p',\n",
       " '1yf',\n",
       " '20',\n",
       " '200',\n",
       " '2000',\n",
       " '2003',\n",
       " '2004',\n",
       " '2005',\n",
       " '2006',\n",
       " '2007',\n",
       " '2025050',\n",
       " '20m12aq',\n",
       " '20p',\n",
       " '21',\n",
       " '21870000',\n",
       " '21st',\n",
       " '22',\n",
       " '220',\n",
       " '2309',\n",
       " '23f',\n",
       " '23g',\n",
       " '24',\n",
       " '24hrs',\n",
       " '24m',\n",
       " '24th',\n",
       " '25',\n",
       " '250',\n",
       " '250k',\n",
       " '255',\n",
       " '25p',\n",
       " '26',\n",
       " '2667',\n",
       " '26th',\n",
       " '27',\n",
       " '28',\n",
       " '2814032',\n",
       " '28days',\n",
       " '28th',\n",
       " '29',\n",
       " '2b',\n",
       " '2bold',\n",
       " '2c',\n",
       " '2channel',\n",
       " '2day',\n",
       " '2docd',\n",
       " '2end',\n",
       " '2exit',\n",
       " '2ez',\n",
       " '2find',\n",
       " '2getha',\n",
       " '2geva',\n",
       " '2go',\n",
       " '2hook',\n",
       " '2hrs',\n",
       " '2i',\n",
       " '2lands',\n",
       " '2marrow',\n",
       " '2moro',\n",
       " '2morow',\n",
       " '2morro',\n",
       " '2morrow',\n",
       " '2morrowxxxx',\n",
       " '2mro',\n",
       " '2mrw',\n",
       " '2mwen',\n",
       " '2nd',\n",
       " '2nhite',\n",
       " '2nights',\n",
       " '2nite',\n",
       " '2optout',\n",
       " '2p',\n",
       " '2price',\n",
       " '2px',\n",
       " '2rcv',\n",
       " '2stop',\n",
       " '2stoptx',\n",
       " '2stoptxt',\n",
       " '2u',\n",
       " '2u2',\n",
       " '2watershd',\n",
       " '2waxsto',\n",
       " '2wks',\n",
       " '2wt',\n",
       " '2wu',\n",
       " '2years',\n",
       " '2yr',\n",
       " '30',\n",
       " '300',\n",
       " '3000',\n",
       " '300603',\n",
       " '300603t',\n",
       " '300p',\n",
       " '3030',\n",
       " '30apr',\n",
       " '30ish',\n",
       " '30pp',\n",
       " '30s',\n",
       " '30th',\n",
       " '3100',\n",
       " '310303',\n",
       " '31p',\n",
       " '32',\n",
       " '32000',\n",
       " '3230',\n",
       " '32323',\n",
       " '326',\n",
       " '33',\n",
       " '330',\n",
       " '350',\n",
       " '3510i',\n",
       " '35p',\n",
       " '3650',\n",
       " '36504',\n",
       " '3680',\n",
       " '373',\n",
       " '3750',\n",
       " '37819',\n",
       " '38',\n",
       " '382',\n",
       " '391784',\n",
       " '3aj',\n",
       " '3d',\n",
       " '3days',\n",
       " '3g',\n",
       " '3gbp',\n",
       " '3hrs',\n",
       " '3lions',\n",
       " '3lp',\n",
       " '3miles',\n",
       " '3mins',\n",
       " '3mobile',\n",
       " '3optical',\n",
       " '3pound',\n",
       " '3qxj9',\n",
       " '3rd',\n",
       " '3ss',\n",
       " '3uz',\n",
       " '3wks',\n",
       " '3x',\n",
       " '3xx',\n",
       " '40',\n",
       " '400',\n",
       " '400mins',\n",
       " '400thousad',\n",
       " '402',\n",
       " '4041',\n",
       " '40411',\n",
       " '40gb',\n",
       " '40mph',\n",
       " '41685',\n",
       " '41782',\n",
       " '420',\n",
       " '42478',\n",
       " '42810',\n",
       " '430',\n",
       " '434',\n",
       " '44',\n",
       " '440',\n",
       " '4403ldnw1a7rw18',\n",
       " '44345',\n",
       " '447797706009',\n",
       " '447801259231',\n",
       " '448712404000',\n",
       " '449050000301',\n",
       " '449071512431',\n",
       " '45',\n",
       " '450',\n",
       " '450ppw',\n",
       " '45239',\n",
       " '45pm',\n",
       " '47',\n",
       " '4742',\n",
       " '47per',\n",
       " '48',\n",
       " '4882',\n",
       " '48922',\n",
       " '49',\n",
       " '49557',\n",
       " '4a',\n",
       " '4brekkie',\n",
       " '4d',\n",
       " '4eva',\n",
       " '4get',\n",
       " '4give',\n",
       " '4got',\n",
       " '4info',\n",
       " '4msgs',\n",
       " '4mths',\n",
       " '4my',\n",
       " '4t',\n",
       " '4th',\n",
       " '4the',\n",
       " '4thnov',\n",
       " '4txt',\n",
       " '4u',\n",
       " '4utxt',\n",
       " '4w',\n",
       " '4wrd',\n",
       " '4xx26',\n",
       " '4years',\n",
       " '50',\n",
       " '500',\n",
       " '5000',\n",
       " '505060',\n",
       " '50award',\n",
       " '50gbp',\n",
       " '50p',\n",
       " '50perwksub',\n",
       " '50pm',\n",
       " '50pmmorefrommobile2bremoved',\n",
       " '50ppm',\n",
       " '50rcvd',\n",
       " '50s',\n",
       " '5226',\n",
       " '5249',\n",
       " '526',\n",
       " '528',\n",
       " '530',\n",
       " '54',\n",
       " '542',\n",
       " '5digital',\n",
       " '5free',\n",
       " '5ish',\n",
       " '5k',\n",
       " '5min',\n",
       " '5mls',\n",
       " '5p',\n",
       " '5pm',\n",
       " '5th',\n",
       " '5wb',\n",
       " '5we',\n",
       " '5wkg',\n",
       " '5wq',\n",
       " '5years',\n",
       " '60',\n",
       " '600',\n",
       " '6031',\n",
       " '6089',\n",
       " '60p',\n",
       " '61',\n",
       " '61200',\n",
       " '61610',\n",
       " '6230',\n",
       " '62468',\n",
       " '62735',\n",
       " '630',\n",
       " '63miles',\n",
       " '645',\n",
       " '65',\n",
       " '650',\n",
       " '66',\n",
       " '674',\n",
       " '67441233',\n",
       " '68866',\n",
       " '69101',\n",
       " '69200',\n",
       " '69669',\n",
       " '69696',\n",
       " '69855',\n",
       " '69866',\n",
       " '69876',\n",
       " '69888',\n",
       " '69888nyt',\n",
       " '69969',\n",
       " '69988',\n",
       " '6days',\n",
       " '6hl',\n",
       " '6hrs',\n",
       " '6months',\n",
       " '6ph',\n",
       " '6pm',\n",
       " '6th',\n",
       " '6times',\n",
       " '6wu',\n",
       " '700',\n",
       " '71',\n",
       " '7250',\n",
       " '7250i',\n",
       " '730',\n",
       " '74355',\n",
       " '75',\n",
       " '750',\n",
       " '7548',\n",
       " '75max',\n",
       " '77',\n",
       " '7732584351',\n",
       " '78',\n",
       " '786',\n",
       " '7876150ppm',\n",
       " '7am',\n",
       " '7ish',\n",
       " '7mp',\n",
       " '7oz',\n",
       " '7pm',\n",
       " '7th',\n",
       " '80',\n",
       " '800',\n",
       " '8000930705',\n",
       " '80062',\n",
       " '8007',\n",
       " '80082',\n",
       " '80086',\n",
       " '80155',\n",
       " '80160',\n",
       " '80182',\n",
       " '8027',\n",
       " '80488',\n",
       " '80608',\n",
       " '8077',\n",
       " '80878',\n",
       " '81010',\n",
       " '81151',\n",
       " '81303',\n",
       " '81618',\n",
       " '82050',\n",
       " '820554ad0a1705572711',\n",
       " '82242',\n",
       " '82277',\n",
       " '82324',\n",
       " '82468',\n",
       " '83039',\n",
       " '83049',\n",
       " '83118',\n",
       " '83222',\n",
       " '83332',\n",
       " '83355',\n",
       " '83370',\n",
       " '83383',\n",
       " '83435',\n",
       " '83600',\n",
       " '83738',\n",
       " '84',\n",
       " '84025',\n",
       " '84122',\n",
       " '84128',\n",
       " '84199',\n",
       " '85',\n",
       " '850',\n",
       " '85023',\n",
       " '85069',\n",
       " '85222',\n",
       " '85233',\n",
       " '8552',\n",
       " '85555',\n",
       " '86021',\n",
       " '861',\n",
       " '864233',\n",
       " '86688',\n",
       " '86888',\n",
       " '87021',\n",
       " '87066',\n",
       " '87070',\n",
       " '87077',\n",
       " '87121',\n",
       " '87131',\n",
       " '8714714',\n",
       " '872',\n",
       " '87239',\n",
       " '87575',\n",
       " '8800',\n",
       " '88039',\n",
       " '88066',\n",
       " '88088',\n",
       " '88222',\n",
       " '88600',\n",
       " '88800',\n",
       " '88888',\n",
       " '89034',\n",
       " '89070',\n",
       " '89080',\n",
       " '89105',\n",
       " '89123',\n",
       " '89545',\n",
       " '89555',\n",
       " '89693',\n",
       " '8am',\n",
       " '8lb',\n",
       " '8p',\n",
       " '8pm',\n",
       " '8th',\n",
       " '8wp',\n",
       " '900',\n",
       " '910',\n",
       " '9153',\n",
       " '9280114',\n",
       " '92h',\n",
       " '930',\n",
       " '945',\n",
       " '946',\n",
       " '95',\n",
       " '9758',\n",
       " '97n7qp',\n",
       " '98321561',\n",
       " '99',\n",
       " '9996',\n",
       " '9ae',\n",
       " '9am',\n",
       " '9ja',\n",
       " '9pm',\n",
       " '9t',\n",
       " '9th',\n",
       " '____',\n",
       " 'a30',\n",
       " 'aa',\n",
       " 'aah',\n",
       " 'aaniye',\n",
       " 'aathi',\n",
       " 'ab',\n",
       " 'abbey',\n",
       " 'abdomen',\n",
       " 'abeg',\n",
       " 'abel',\n",
       " 'aberdeen',\n",
       " 'abi',\n",
       " 'ability',\n",
       " 'abiola',\n",
       " 'abj',\n",
       " 'able',\n",
       " 'abnormally',\n",
       " 'about',\n",
       " 'aboutas',\n",
       " 'above',\n",
       " 'absence',\n",
       " 'absolutely',\n",
       " 'absolutly',\n",
       " 'abstract',\n",
       " 'abt',\n",
       " 'abta',\n",
       " 'aburo',\n",
       " 'abuse',\n",
       " 'abusers',\n",
       " 'ac',\n",
       " 'academic',\n",
       " 'acc',\n",
       " 'accent',\n",
       " 'accenture',\n",
       " 'accept',\n",
       " 'access',\n",
       " 'accessible',\n",
       " 'accidant',\n",
       " 'accident',\n",
       " 'accidentally',\n",
       " 'accommodationvouchers',\n",
       " 'accomodate',\n",
       " 'accomodations',\n",
       " 'accordin',\n",
       " 'accordingly',\n",
       " 'account',\n",
       " 'accounting',\n",
       " 'accounts',\n",
       " 'accumulation',\n",
       " 'achan',\n",
       " 'ache',\n",
       " 'acknowledgement',\n",
       " 'acl03530150pm',\n",
       " 'acnt',\n",
       " 'aco',\n",
       " 'across',\n",
       " 'act',\n",
       " 'acted',\n",
       " 'actin',\n",
       " 'acting',\n",
       " 'action',\n",
       " 'activ8',\n",
       " 'activate',\n",
       " 'active',\n",
       " 'activities',\n",
       " 'actor',\n",
       " 'actual',\n",
       " 'actually',\n",
       " 'ad',\n",
       " 'adam',\n",
       " 'add',\n",
       " 'added',\n",
       " 'addicted',\n",
       " 'addie',\n",
       " 'adding',\n",
       " 'address',\n",
       " 'adewale',\n",
       " 'adi',\n",
       " 'adjustable',\n",
       " 'admin',\n",
       " 'administrator',\n",
       " 'admirer',\n",
       " 'admission',\n",
       " 'admit',\n",
       " 'adore',\n",
       " 'adoring',\n",
       " 'adp',\n",
       " 'adress',\n",
       " 'adrink',\n",
       " 'ads',\n",
       " 'adsense',\n",
       " 'adult',\n",
       " 'adults',\n",
       " 'advance',\n",
       " 'adventure',\n",
       " 'adventuring',\n",
       " 'advice',\n",
       " 'advise',\n",
       " 'advising',\n",
       " 'advisors',\n",
       " 'aeronautics',\n",
       " 'aeroplane',\n",
       " 'affair',\n",
       " 'affairs',\n",
       " 'affection',\n",
       " 'affectionate',\n",
       " 'affections',\n",
       " 'affidavit',\n",
       " 'afford',\n",
       " 'afghanistan',\n",
       " 'afraid',\n",
       " 'africa',\n",
       " 'african',\n",
       " 'aft',\n",
       " 'after',\n",
       " 'afternon',\n",
       " 'afternoon',\n",
       " 'afternoons',\n",
       " 'afterwards',\n",
       " 'aftr',\n",
       " 'ag',\n",
       " 'again',\n",
       " 'against',\n",
       " 'agalla',\n",
       " 'age',\n",
       " 'age16',\n",
       " 'age23',\n",
       " 'agency',\n",
       " 'agent',\n",
       " 'agents',\n",
       " 'ages',\n",
       " 'agidhane',\n",
       " 'aging',\n",
       " 'ago',\n",
       " 'agree',\n",
       " 'ah',\n",
       " 'aha',\n",
       " 'ahead',\n",
       " 'ahhh',\n",
       " 'ahhhh',\n",
       " 'ahmad',\n",
       " 'aig',\n",
       " 'aight',\n",
       " 'ain',\n",
       " 'aint',\n",
       " 'air',\n",
       " 'air1',\n",
       " 'airport',\n",
       " 'airtel',\n",
       " 'aiya',\n",
       " 'aiyah',\n",
       " 'aiyar',\n",
       " 'aiyo',\n",
       " 'ajith',\n",
       " 'ak',\n",
       " 'aka',\n",
       " 'al',\n",
       " 'alaikkum',\n",
       " 'alaipayuthe',\n",
       " 'albi',\n",
       " 'album',\n",
       " 'alcohol',\n",
       " 'aldrine',\n",
       " 'alert',\n",
       " 'alerts',\n",
       " 'aletter',\n",
       " 'alex',\n",
       " 'alfie',\n",
       " 'algarve',\n",
       " 'algebra',\n",
       " 'algorithms',\n",
       " 'alian',\n",
       " 'alive',\n",
       " 'all',\n",
       " 'allah',\n",
       " 'allalo',\n",
       " 'allday',\n",
       " 'alle',\n",
       " 'allo',\n",
       " 'allow',\n",
       " 'allowed',\n",
       " 'allows',\n",
       " 'almost',\n",
       " 'alone',\n",
       " 'along',\n",
       " 'alot',\n",
       " 'already',\n",
       " 'alright',\n",
       " 'alrite',\n",
       " 'also',\n",
       " 'alter',\n",
       " 'alternative',\n",
       " 'although',\n",
       " 'alto18',\n",
       " 'aluable',\n",
       " 'alwa',\n",
       " 'always',\n",
       " 'alwys',\n",
       " 'am',\n",
       " 'amanda',\n",
       " 'amazing',\n",
       " 'ambitious',\n",
       " 'american',\n",
       " 'ami',\n",
       " 'amigos',\n",
       " 'amk',\n",
       " 'amla',\n",
       " 'amma',\n",
       " 'ammae',\n",
       " 'ammo',\n",
       " 'amnow',\n",
       " 'among',\n",
       " 'amongst',\n",
       " 'amore',\n",
       " 'amount',\n",
       " 'amp',\n",
       " 'amplikater',\n",
       " 'amrca',\n",
       " 'ams',\n",
       " 'amt',\n",
       " 'amused',\n",
       " 'amy',\n",
       " 'an',\n",
       " 'ana',\n",
       " 'anal',\n",
       " 'anand',\n",
       " 'and',\n",
       " 'anderson',\n",
       " 'andres',\n",
       " 'andrews',\n",
       " 'andros',\n",
       " 'angels',\n",
       " 'angry',\n",
       " 'animal',\n",
       " 'animation',\n",
       " 'anjie',\n",
       " 'anjola',\n",
       " 'annie',\n",
       " 'anniversary',\n",
       " 'annoncement',\n",
       " 'announced',\n",
       " 'announcement',\n",
       " 'annoyin',\n",
       " 'annoying',\n",
       " 'anonymous',\n",
       " 'anot',\n",
       " 'another',\n",
       " 'ans',\n",
       " 'ansr',\n",
       " 'answer',\n",
       " 'answered',\n",
       " 'answerin',\n",
       " ...]"
      ]
     },
     "execution_count": 18,
     "metadata": {},
     "output_type": "execute_result"
    }
   ],
   "source": [
    "vect.get_feature_names()"
   ]
  },
  {
   "cell_type": "code",
   "execution_count": 19,
   "metadata": {},
   "outputs": [
    {
     "data": {
      "text/plain": [
       "7668"
      ]
     },
     "execution_count": 19,
     "metadata": {},
     "output_type": "execute_result"
    }
   ],
   "source": [
    "len(vect.get_feature_names())"
   ]
  },
  {
   "cell_type": "code",
   "execution_count": 20,
   "metadata": {},
   "outputs": [
    {
     "data": {
      "text/plain": [
       "(4457, 7668)"
      ]
     },
     "execution_count": 20,
     "metadata": {},
     "output_type": "execute_result"
    }
   ],
   "source": [
    "X_train_dtm.shape"
   ]
  },
  {
   "cell_type": "code",
   "execution_count": 21,
   "metadata": {},
   "outputs": [],
   "source": [
    "X_test_dtm = vect.transform(X_test)"
   ]
  },
  {
   "cell_type": "code",
   "execution_count": 23,
   "metadata": {},
   "outputs": [
    {
     "data": {
      "text/plain": [
       "(1115, 7668)"
      ]
     },
     "execution_count": 23,
     "metadata": {},
     "output_type": "execute_result"
    }
   ],
   "source": [
    "X_test_dtm.shape"
   ]
  },
  {
   "cell_type": "markdown",
   "metadata": {},
   "source": [
    "# logistic regression"
   ]
  },
  {
   "cell_type": "code",
   "execution_count": 24,
   "metadata": {},
   "outputs": [],
   "source": [
    "from sklearn.linear_model import LogisticRegression\n",
    "\n",
    "lr_clf = LogisticRegression()"
   ]
  },
  {
   "cell_type": "code",
   "execution_count": 25,
   "metadata": {},
   "outputs": [
    {
     "name": "stderr",
     "output_type": "stream",
     "text": [
      "/home/arjun/miniconda3/envs/num_exe/lib/python3.6/site-packages/sklearn/linear_model/logistic.py:432: FutureWarning: Default solver will be changed to 'lbfgs' in 0.22. Specify a solver to silence this warning.\n",
      "  FutureWarning)\n"
     ]
    },
    {
     "name": "stdout",
     "output_type": "stream",
     "text": [
      "CPU times: user 176 ms, sys: 12 ms, total: 188 ms\n",
      "Wall time: 355 ms\n"
     ]
    },
    {
     "data": {
      "text/plain": [
       "LogisticRegression(C=1.0, class_weight=None, dual=False, fit_intercept=True,\n",
       "                   intercept_scaling=1, l1_ratio=None, max_iter=100,\n",
       "                   multi_class='warn', n_jobs=None, penalty='l2',\n",
       "                   random_state=None, solver='warn', tol=0.0001, verbose=0,\n",
       "                   warm_start=False)"
      ]
     },
     "execution_count": 25,
     "metadata": {},
     "output_type": "execute_result"
    }
   ],
   "source": [
    "%time lr_clf.fit(X_train_dtm,y_train)"
   ]
  },
  {
   "cell_type": "code",
   "execution_count": 26,
   "metadata": {},
   "outputs": [],
   "source": [
    "score_reg = lr_clf.score(X_test_dtm,y_test)"
   ]
  },
  {
   "cell_type": "code",
   "execution_count": 29,
   "metadata": {},
   "outputs": [
    {
     "data": {
      "text/plain": [
       "0.9820627802690582"
      ]
     },
     "execution_count": 29,
     "metadata": {},
     "output_type": "execute_result"
    }
   ],
   "source": [
    "score_reg"
   ]
  },
  {
   "cell_type": "code",
   "execution_count": 30,
   "metadata": {},
   "outputs": [],
   "source": [
    "y_pred = lr_clf.predict(X_test_dtm)"
   ]
  },
  {
   "cell_type": "code",
   "execution_count": 31,
   "metadata": {},
   "outputs": [],
   "source": [
    "from sklearn.metrics import confusion_matrix,precision_score,recall_score,f1_score"
   ]
  },
  {
   "cell_type": "code",
   "execution_count": 32,
   "metadata": {},
   "outputs": [
    {
     "data": {
      "text/plain": [
       "array([[966,   0],\n",
       "       [ 20, 129]])"
      ]
     },
     "execution_count": 32,
     "metadata": {},
     "output_type": "execute_result"
    }
   ],
   "source": [
    "confusion_matrix(y_true=y_test,y_pred = y_pred)"
   ]
  },
  {
   "cell_type": "code",
   "execution_count": 33,
   "metadata": {},
   "outputs": [
    {
     "name": "stdout",
     "output_type": "stream",
     "text": [
      "precision: 1.0\n",
      "recall: 0.8657718120805369\n",
      "f1-score: 0.9280575539568345\n"
     ]
    }
   ],
   "source": [
    "print(\"precision:\", precision_score(y_true=y_test, y_pred=y_pred))\n",
    "print(\"recall:\", recall_score(y_true=y_test, y_pred=y_pred))\n",
    "print(\"f1-score:\", f1_score(y_true=y_test, y_pred=y_pred))"
   ]
  },
  {
   "cell_type": "markdown",
   "metadata": {},
   "source": [
    "# using 2 grams"
   ]
  },
  {
   "cell_type": "code",
   "execution_count": 35,
   "metadata": {},
   "outputs": [
    {
     "data": {
      "text/plain": [
       "['00',\n",
       " '00 in',\n",
       " '00 per',\n",
       " '00 sub',\n",
       " '00 subs',\n",
       " '000',\n",
       " '000 bonus',\n",
       " '000 cash',\n",
       " '000 homeowners',\n",
       " '000 pounds',\n",
       " '000 price',\n",
       " '000 prize',\n",
       " '000 xmas',\n",
       " '000pes',\n",
       " '000pes so',\n",
       " '008704050406',\n",
       " '008704050406 sp',\n",
       " '0089',\n",
       " '0089 my',\n",
       " '0121',\n",
       " '0121 2025050',\n",
       " '01223585236',\n",
       " '01223585236 xx',\n",
       " '01223585334',\n",
       " '01223585334 to',\n",
       " '02',\n",
       " '02 06',\n",
       " '02 09',\n",
       " '02 claimcode',\n",
       " '02 user',\n",
       " '0207',\n",
       " '0207 083',\n",
       " '0207 153',\n",
       " '02072069400',\n",
       " '02072069400 bx',\n",
       " '02073162414',\n",
       " '02073162414 now',\n",
       " '02085076972',\n",
       " '02085076972 reply',\n",
       " '021',\n",
       " '021 3680',\n",
       " '03',\n",
       " '03 05',\n",
       " '03 is',\n",
       " '03 our',\n",
       " '03 this',\n",
       " '04',\n",
       " '04 call',\n",
       " '0430',\n",
       " '0430 jul',\n",
       " '05',\n",
       " '05 05',\n",
       " '05 or',\n",
       " '050703',\n",
       " '050703 csbcm4235wc1n3xx',\n",
       " '0578',\n",
       " '0578 now',\n",
       " '06',\n",
       " '06 03',\n",
       " '06 05',\n",
       " '06 11',\n",
       " '06 good',\n",
       " '07',\n",
       " '07 11',\n",
       " '07008009200',\n",
       " '07046744435',\n",
       " '07046744435 now',\n",
       " '07099833605',\n",
       " '07099833605 to',\n",
       " '07123456789',\n",
       " '07123456789 to',\n",
       " '0721072',\n",
       " '0721072 to',\n",
       " '07732584351',\n",
       " '07732584351 rodger',\n",
       " '07734396839',\n",
       " '07734396839 ibh',\n",
       " '07742676969',\n",
       " '07742676969 shows',\n",
       " '07753741225',\n",
       " '07753741225 shows',\n",
       " '07781482378',\n",
       " '07781482378 com',\n",
       " '07786200117',\n",
       " '077xxx',\n",
       " '077xxx won',\n",
       " '078',\n",
       " '07801543489',\n",
       " '07801543489 are',\n",
       " '07808',\n",
       " '07808 xxxxxx',\n",
       " '07808247860',\n",
       " '07808247860 shows',\n",
       " '07808726822',\n",
       " '07808726822 was',\n",
       " '07815296484',\n",
       " '07815296484 shows',\n",
       " '07821230901',\n",
       " '078498',\n",
       " '078498 shows',\n",
       " '0789xxxxxxx',\n",
       " '0789xxxxxxx today',\n",
       " '0796xxxxxx',\n",
       " '0796xxxxxx today',\n",
       " '07xxxxxxxxx',\n",
       " '07xxxxxxxxx shows',\n",
       " '07xxxxxxxxx won',\n",
       " '0800',\n",
       " '0800 0721072',\n",
       " '0800 169',\n",
       " '0800 18',\n",
       " '0800 1956669',\n",
       " '0800 505060',\n",
       " '0800 542',\n",
       " '08000407165',\n",
       " '08000407165 18',\n",
       " '08000839402',\n",
       " '08000839402 now',\n",
       " '08000839402 or',\n",
       " '08000930705',\n",
       " '08000930705 del',\n",
       " '08000930705 for',\n",
       " '08000930705 now',\n",
       " '08000930705 or',\n",
       " '08000938767',\n",
       " '08000938767 to',\n",
       " '08001950382',\n",
       " '08001950382 or',\n",
       " '08002888812',\n",
       " '08002888812 or',\n",
       " '08002986030',\n",
       " '08002986906',\n",
       " '08002988890',\n",
       " '08002988890 now',\n",
       " '08006344447',\n",
       " '08006344447 to',\n",
       " '0808',\n",
       " '0808 145',\n",
       " '08081263000',\n",
       " '08081263000 to',\n",
       " '08081560665',\n",
       " '08081560665 and',\n",
       " '0825',\n",
       " '0825 now',\n",
       " '083',\n",
       " '083 6089',\n",
       " '0844',\n",
       " '0844 861',\n",
       " '08448350055',\n",
       " '08448350055 from',\n",
       " '08448714184',\n",
       " '08448714184 stop',\n",
       " '0845',\n",
       " '0845 021',\n",
       " '0845 2814032',\n",
       " '08450542832',\n",
       " '08452810073',\n",
       " '08452810073 for',\n",
       " '08452810075over18',\n",
       " '0870',\n",
       " '0870 chatlines',\n",
       " '0870 is',\n",
       " '08700469649',\n",
       " '08700469649 po',\n",
       " '08700621170150p',\n",
       " '08700621170150p per',\n",
       " '08701213186',\n",
       " '08701237397',\n",
       " '08701237397 you',\n",
       " '08701417012',\n",
       " '08701417012 profit',\n",
       " '08701417012150p',\n",
       " '08701417012150p per',\n",
       " '0870141701216',\n",
       " '0870141701216 norm',\n",
       " '087018728737',\n",
       " '087018728737 national',\n",
       " '0870241182716',\n",
       " '0870241182716 wk',\n",
       " '08702840625',\n",
       " '08702840625 comuk',\n",
       " '08706091795',\n",
       " '0870737910216yrs',\n",
       " '0870737910216yrs only',\n",
       " '08707500020',\n",
       " '08707500020 just',\n",
       " '08707509020',\n",
       " '08707509020 just',\n",
       " '0870753331018',\n",
       " '08707808226',\n",
       " '08708034412',\n",
       " '08709222922',\n",
       " '08709222922 national',\n",
       " '08709501522',\n",
       " '08709501522 for',\n",
       " '0871',\n",
       " '0871 872',\n",
       " '087104711148',\n",
       " '087104711148 now',\n",
       " '08712101358',\n",
       " '08712101358 now',\n",
       " '0871212025016',\n",
       " '08712300220',\n",
       " '08712300220 quoting',\n",
       " '08712300220 to',\n",
       " '087123002209am',\n",
       " '087123002209am 7pm',\n",
       " '08712317606',\n",
       " '08712317606 msg150p',\n",
       " '08712317606 stop',\n",
       " '08712400200',\n",
       " '08712400602450p',\n",
       " '08712400602450p provided',\n",
       " '08712402050',\n",
       " '08712402050 before',\n",
       " '08712402578',\n",
       " '08712402578 immediately',\n",
       " '08712402779',\n",
       " '08712402779 immediately',\n",
       " '08712402902',\n",
       " '08712402902 immediately',\n",
       " '08712402972',\n",
       " '08712402972 immediately',\n",
       " '08712404000',\n",
       " '08712404000 immediately',\n",
       " '08712405020',\n",
       " '08712405022',\n",
       " '08712405022 1x150p',\n",
       " '08712460324',\n",
       " '08712460324 10p',\n",
       " '08712460324 nat',\n",
       " '08712466669',\n",
       " '08712466669 at',\n",
       " '0871277810710p',\n",
       " '0871277810710p min',\n",
       " '0871277810810',\n",
       " '0871277810910p',\n",
       " '0871277810910p min',\n",
       " '08714342399',\n",
       " '08714342399 2stop',\n",
       " '087147123779am',\n",
       " '087147123779am 7pm',\n",
       " '08714712388',\n",
       " '08714712388 between',\n",
       " '08714712394',\n",
       " '08714712394 between',\n",
       " '08714712412',\n",
       " '08714712412 between',\n",
       " '08714714011',\n",
       " '08715203028',\n",
       " '08715203028 to',\n",
       " '08715203652',\n",
       " '08715203652 identifier',\n",
       " '08715203677',\n",
       " '08715203677 identifier',\n",
       " '08715203685',\n",
       " '08715203685 identifier',\n",
       " '08715705022',\n",
       " '08715705022 1x150p',\n",
       " '08717111821',\n",
       " '08717168528',\n",
       " '08717205546',\n",
       " '0871750',\n",
       " '0871750 77',\n",
       " '08717507382',\n",
       " '08717507382 now',\n",
       " '08717509990',\n",
       " '08717509990 poly',\n",
       " '08717898035',\n",
       " '08717898035 00',\n",
       " '08718711108',\n",
       " '08718720201',\n",
       " '08718720201 hg',\n",
       " '08718720201 po',\n",
       " '08718723815',\n",
       " '08718725756',\n",
       " '08718725756 140ppm',\n",
       " '08718726270',\n",
       " '087187262701',\n",
       " '087187262701 50gbp',\n",
       " '08718726970',\n",
       " '08718726970 now',\n",
       " '08718726971',\n",
       " '08718726971 now',\n",
       " '08718726978',\n",
       " '08718726978 now',\n",
       " '087187272008',\n",
       " '087187272008 now1',\n",
       " '08718727868',\n",
       " '08718727868 over',\n",
       " '08718727870',\n",
       " '08718727870150ppm',\n",
       " '08718730666',\n",
       " '08718730666 10p',\n",
       " '08718738001',\n",
       " '08718738001 identifier',\n",
       " '08718738002',\n",
       " '08718738002 identifier',\n",
       " '08718738034',\n",
       " '08719180219',\n",
       " '08719180219 identifier',\n",
       " '08719180248',\n",
       " '08719180248 identifier',\n",
       " '08719181259',\n",
       " '08719181259 identifier',\n",
       " '08719181503',\n",
       " '08719181513',\n",
       " '08719839835',\n",
       " '08719839835 future',\n",
       " '08719899217',\n",
       " '08719899217 identifier',\n",
       " '08719899229',\n",
       " '08719899229 identifier',\n",
       " '08719899230',\n",
       " '08719899230 identifier',\n",
       " '09',\n",
       " '09 02',\n",
       " '09 03',\n",
       " '09041940223',\n",
       " '09041940223 to',\n",
       " '09050000301',\n",
       " '09050000332',\n",
       " '09050000332 to',\n",
       " '09050000460',\n",
       " '09050000460 from',\n",
       " '09050000555',\n",
       " '09050000555 ba128nnfwfly150ppm',\n",
       " '09050000878',\n",
       " '09050000878 pobox45w2tg150p',\n",
       " '09050000928',\n",
       " '09050000928 pobox45w2tg150p',\n",
       " '09050001808',\n",
       " '09050001808 from',\n",
       " '09050002311',\n",
       " '09050002311 b4280703',\n",
       " '09050003091',\n",
       " '09050003091 from',\n",
       " '09050005321',\n",
       " '09050090044',\n",
       " '09050090044 now',\n",
       " '09050280520',\n",
       " '09050280520 to',\n",
       " '09053750005',\n",
       " '09053750005 b4',\n",
       " '09056242159',\n",
       " '09056242159 to',\n",
       " '09057039994',\n",
       " '09058091854',\n",
       " '09058091854 now',\n",
       " '09058091870',\n",
       " '09058091870 now',\n",
       " '09058094455',\n",
       " '09058094455 from',\n",
       " '09058094507',\n",
       " '09058094507 from',\n",
       " '09058094565',\n",
       " '09058094565 from',\n",
       " '09058094583',\n",
       " '09058094583 to',\n",
       " '09058094594',\n",
       " '09058094597',\n",
       " '09058094599',\n",
       " '09058095107',\n",
       " '09058095107 now',\n",
       " '09058097189',\n",
       " '09058097189 now',\n",
       " '09058097218',\n",
       " '09058097218 to',\n",
       " '09058098002',\n",
       " '09058098002 pobox1',\n",
       " '09058099801',\n",
       " '09058099801 b4190604',\n",
       " '09061104276',\n",
       " '09061104276 to',\n",
       " '09061104283',\n",
       " '09061104283 ts',\n",
       " '09061209465',\n",
       " '09061209465 now',\n",
       " '09061213237',\n",
       " '09061213237 from',\n",
       " '09061221061',\n",
       " '09061221061 from',\n",
       " '09061221066',\n",
       " '09061221066 fromm',\n",
       " '09061701461',\n",
       " '09061701461 claim',\n",
       " '09061701851',\n",
       " '09061701851 claim',\n",
       " '09061701939',\n",
       " '09061701939 claim',\n",
       " '09061702893',\n",
       " '09061702893 acl03530150pm',\n",
       " '09061743386',\n",
       " '09061743806',\n",
       " '09061743806 from',\n",
       " '09061743811',\n",
       " '09061743811 from',\n",
       " '09061744553',\n",
       " '09061744553 now',\n",
       " '09061749602',\n",
       " '09061749602 from',\n",
       " '09061790121',\n",
       " '09061790121 from',\n",
       " '09061790125',\n",
       " '09061790125 from',\n",
       " '09063440451',\n",
       " '09063440451 from',\n",
       " '09063442151',\n",
       " '09063442151 to',\n",
       " '09063458130',\n",
       " '09063458130 now',\n",
       " '0906346330',\n",
       " '0906346330 your',\n",
       " '09064011000',\n",
       " '09064011000 ntt',\n",
       " '09064012103',\n",
       " '09064012103 box334sk38ch',\n",
       " '09064012160',\n",
       " '09064012160 claim',\n",
       " '09064015307',\n",
       " '09064015307 box334sk38ch',\n",
       " '09064017295',\n",
       " '09064017295 claim',\n",
       " '09064017305',\n",
       " '09064017305 pobox75ldns7',\n",
       " '09064018838',\n",
       " '09064018838 ntt',\n",
       " '09064019014',\n",
       " '09064019014 to',\n",
       " '09064019788',\n",
       " '09064019788 box42wr29c',\n",
       " '09065069120',\n",
       " '09065069154',\n",
       " '09065171142',\n",
       " '09065171142 stopsms',\n",
       " '09065174042',\n",
       " '09065174042 to',\n",
       " '09065394973',\n",
       " '09065394973 from',\n",
       " '09065989180',\n",
       " '09065989182',\n",
       " '09065989182 from',\n",
       " '09066350750',\n",
       " '09066350750 from',\n",
       " '09066358152',\n",
       " '09066358152 to',\n",
       " '09066358361',\n",
       " '09066358361 from',\n",
       " '09066362206',\n",
       " '09066362206 asap',\n",
       " '09066362231',\n",
       " '09066362231 asap',\n",
       " '09066362231 urgent',\n",
       " '09066364311',\n",
       " '09066364311 to',\n",
       " '09066364349',\n",
       " '09066364349 now',\n",
       " '09066364589',\n",
       " '09066368327',\n",
       " '09066368327 now',\n",
       " '09066368470',\n",
       " '09066368753',\n",
       " '09066368753 asap',\n",
       " '09066380611',\n",
       " '09066382422',\n",
       " '09066382422 calls',\n",
       " '09066612661',\n",
       " '09066612661 from',\n",
       " '09066649731from',\n",
       " '09066649731from landline',\n",
       " '09066660100',\n",
       " '09066660100 now',\n",
       " '09071512432',\n",
       " '09071512432 b4',\n",
       " '09071512433',\n",
       " '09071512433 b4',\n",
       " '09077818151',\n",
       " '09077818151 to',\n",
       " '09090900040',\n",
       " '09090900040 listen',\n",
       " '09094100151',\n",
       " '09094100151 to',\n",
       " '09094646899',\n",
       " '09094646899 now',\n",
       " '09095350301',\n",
       " '09095350301 and',\n",
       " '09099725823',\n",
       " '09099725823 hope',\n",
       " '09099726395',\n",
       " '09099726395 lucy',\n",
       " '09099726481',\n",
       " '09099726481 luv',\n",
       " '09099726553',\n",
       " '09099726553 reply',\n",
       " '09111030116',\n",
       " '09111030116 pobox12n146tf15',\n",
       " '09111032124',\n",
       " '09111032124 pobox12n146tf150p',\n",
       " '09701213186',\n",
       " '0a',\n",
       " '0a networks',\n",
       " '0quit',\n",
       " '0quit edrunk',\n",
       " '10',\n",
       " '10 000',\n",
       " '10 04',\n",
       " '10 06',\n",
       " '10 10',\n",
       " '10 1mega',\n",
       " '10 30',\n",
       " '10 at',\n",
       " '10 days',\n",
       " '10 den',\n",
       " '10 did',\n",
       " '10 evey',\n",
       " '10 free',\n",
       " '10 ls1',\n",
       " '10 man',\n",
       " '10 min',\n",
       " '10 more',\n",
       " '10 mths',\n",
       " '10 pages',\n",
       " '10 smth',\n",
       " '10 to',\n",
       " '100',\n",
       " '100 000',\n",
       " '100 cash',\n",
       " '100 dating',\n",
       " '100 free',\n",
       " '100 gift',\n",
       " '100 high',\n",
       " '100 of',\n",
       " '100 percent',\n",
       " '100 to',\n",
       " '100 travel',\n",
       " '100 txts',\n",
       " '100 weekly',\n",
       " '100 wkly',\n",
       " '1000',\n",
       " '1000 cash',\n",
       " '1000 cashto',\n",
       " '1000 flirting',\n",
       " '1000 in',\n",
       " '1000 or',\n",
       " '1000 prize',\n",
       " '1000 to',\n",
       " '1000 txt',\n",
       " '1000 txts',\n",
       " '1000call',\n",
       " '1000call 09071512432',\n",
       " '1000s',\n",
       " '1000s of',\n",
       " '100p',\n",
       " '100p sms',\n",
       " '100percent',\n",
       " '100percent real',\n",
       " '100txt',\n",
       " '100txt mth',\n",
       " '1013',\n",
       " '1013 ig11',\n",
       " '1030',\n",
       " '1030 there',\n",
       " '1030 to',\n",
       " '10am',\n",
       " '10am 7pm',\n",
       " '10am 9pm',\n",
       " '10am till',\n",
       " '10k',\n",
       " '10k 5k',\n",
       " '10k cash',\n",
       " '10p',\n",
       " '10p min',\n",
       " '10p per',\n",
       " '10p reply',\n",
       " '10ppm',\n",
       " '10ppm 16',\n",
       " '10th',\n",
       " '10th sept',\n",
       " '11',\n",
       " '11 04',\n",
       " '11 48',\n",
       " '11 bt',\n",
       " '11 mnths',\n",
       " '11 months',\n",
       " '11 ok',\n",
       " '11 tmr',\n",
       " '1120',\n",
       " '1120 to',\n",
       " '113',\n",
       " '113 bray',\n",
       " '1131',\n",
       " '1131 standard',\n",
       " '114',\n",
       " '114 14',\n",
       " '116',\n",
       " '116 but',\n",
       " '11mths',\n",
       " '11mths call',\n",
       " '11mths update',\n",
       " '11mths you',\n",
       " '11pm',\n",
       " '11pm as',\n",
       " '12',\n",
       " '12 000pes',\n",
       " '12 30',\n",
       " '12 help',\n",
       " '12 hours',\n",
       " '12 kiosk',\n",
       " '12 mths',\n",
       " '12 rite',\n",
       " '1205',\n",
       " '1205 one',\n",
       " '120p',\n",
       " '121',\n",
       " '121 chat',\n",
       " '1225',\n",
       " '1225 are',\n",
       " '123',\n",
       " '123 congratulations',\n",
       " '125',\n",
       " '125 gift',\n",
       " '1250',\n",
       " '1250 call',\n",
       " '125gift',\n",
       " '125gift guaranteed',\n",
       " '128',\n",
       " '128 mb',\n",
       " '12hours',\n",
       " '12hours only',\n",
       " '12hrs',\n",
       " '12hrs 150p',\n",
       " '12hrs only',\n",
       " '12mths',\n",
       " '12mths 2price',\n",
       " '12mths half',\n",
       " '13',\n",
       " '13 04',\n",
       " '13 10',\n",
       " '130',\n",
       " '130 iriver',\n",
       " '1327',\n",
       " '1327 croydon',\n",
       " '139',\n",
       " '139 la3',\n",
       " '14',\n",
       " '14 tcr',\n",
       " '140',\n",
       " '140 ard',\n",
       " '1405',\n",
       " '1405 1680',\n",
       " '140ppm',\n",
       " '145',\n",
       " '145 4742',\n",
       " '1450',\n",
       " '1450 prize',\n",
       " '146tf150p',\n",
       " '14tcr',\n",
       " '14tcr w1',\n",
       " '14thmarch',\n",
       " '14thmarch apply',\n",
       " '15',\n",
       " '15 26',\n",
       " '15 as',\n",
       " '15 cos',\n",
       " '150',\n",
       " '150 ppm',\n",
       " '150 prize',\n",
       " '150 sae',\n",
       " '150 textand',\n",
       " '150 voucher',\n",
       " '150 worth',\n",
       " '1500',\n",
       " '1500 bonus',\n",
       " '150p',\n",
       " '150p 18',\n",
       " '150p daily',\n",
       " '150p day',\n",
       " '150p meg',\n",
       " '150p min',\n",
       " '150p msg',\n",
       " '150p msgrcvd',\n",
       " '150p msgrcvdhg',\n",
       " '150p mt',\n",
       " '150p mtmsgrcvd18',\n",
       " '150p netcollex',\n",
       " '150p per',\n",
       " '150p pm',\n",
       " '150p reply',\n",
       " '150p sms',\n",
       " '150p stop',\n",
       " '150p text',\n",
       " '150p textoperator',\n",
       " '150p tone',\n",
       " '150p wk',\n",
       " '150p16',\n",
       " '150pm',\n",
       " '150pm dont',\n",
       " '150ppermesssubscription',\n",
       " '150ppm',\n",
       " '150ppm 16',\n",
       " '150ppm 18',\n",
       " '150ppm ave',\n",
       " '150ppm mobile',\n",
       " '150ppm mobiles',\n",
       " '150ppm mobilesvary',\n",
       " '150ppmsg',\n",
       " '150ppmsg 18',\n",
       " '150pw',\n",
       " '150pw to',\n",
       " '151',\n",
       " '151 to',\n",
       " '153',\n",
       " '153 9153',\n",
       " '153 9996',\n",
       " '15541',\n",
       " '15pm',\n",
       " '15pm to',\n",
       " '16',\n",
       " '16 99',\n",
       " '16 after',\n",
       " '16 close',\n",
       " '16 club',\n",
       " '16 cs',\n",
       " '16 gbp1',\n",
       " '16 may',\n",
       " '16 norm150p',\n",
       " '16 only',\n",
       " '16 remove',\n",
       " '16 reply',\n",
       " '16 stop',\n",
       " '16 tsandcs',\n",
       " '16 unsub',\n",
       " '165',\n",
       " '165 or',\n",
       " '165 see',\n",
       " '1680',\n",
       " '1680 1843',\n",
       " '169',\n",
       " '169 6031',\n",
       " '177',\n",
       " '177 m227xy',\n",
       " '18',\n",
       " '18 11',\n",
       " '18 150p',\n",
       " '18 30pp',\n",
       " '18 50',\n",
       " '18 bt',\n",
       " '18 days',\n",
       " '18 its',\n",
       " '18 msg',\n",
       " '18 only',\n",
       " '18 sender',\n",
       " '18 stop',\n",
       " '18 to',\n",
       " '18 www',\n",
       " '18 xxx',\n",
       " '18 years',\n",
       " '18 yrs',\n",
       " '180',\n",
       " '180 at',\n",
       " '1843',\n",
       " '1843 all',\n",
       " '18p',\n",
       " '18p txt',\n",
       " '18yrs',\n",
       " '1956669',\n",
       " '1956669 or',\n",
       " '1apple',\n",
       " '1apple day',\n",
       " '1b6a5ecef91ff9',\n",
       " '1b6a5ecef91ff9 37819',\n",
       " '1cup',\n",
       " '1cup milk',\n",
       " '1da',\n",
       " '1da 150ppmsg',\n",
       " '1er',\n",
       " '1er until',\n",
       " '1hr',\n",
       " '1hr time',\n",
       " '1im',\n",
       " '1im talkin',\n",
       " '1lemon',\n",
       " '1lemon day',\n",
       " '1mega',\n",
       " '1mega pixels',\n",
       " '1million',\n",
       " '1million to',\n",
       " '1pm',\n",
       " '1pm orchard',\n",
       " '1st',\n",
       " '1st 5free',\n",
       " '1st 5wkg',\n",
       " '1st free',\n",
       " '1st get',\n",
       " '1st june',\n",
       " '1st lor',\n",
       " '1st salary',\n",
       " '1st sept',\n",
       " '1st then',\n",
       " '1st tone',\n",
       " '1st ur',\n",
       " '1st wat',\n",
       " '1st week',\n",
       " '1st wk',\n",
       " '1stchoice',\n",
       " '1stchoice co',\n",
       " '1stone',\n",
       " '1stone sun',\n",
       " '1thing',\n",
       " '1thing got',\n",
       " '1tulsi',\n",
       " '1tulsi leaf',\n",
       " '1win150ppmx3',\n",
       " '1winaweek',\n",
       " '1winaweek age16',\n",
       " '1x150p',\n",
       " '1x150p wk',\n",
       " '1yf',\n",
       " '1yf 150ppm',\n",
       " '20',\n",
       " '20 000',\n",
       " '20 is',\n",
       " '20 its',\n",
       " '20 mins',\n",
       " '20 off',\n",
       " '20 photo',\n",
       " '20 poboxox36504w45wq',\n",
       " '20 that',\n",
       " '20 years',\n",
       " '200',\n",
       " '200 award',\n",
       " '200 free',\n",
       " '200 prize',\n",
       " '200 summer',\n",
       " '200 this',\n",
       " '2000',\n",
       " '2000 award',\n",
       " '2000 bonus',\n",
       " '2000 cash',\n",
       " '2000 gift',\n",
       " '2000 plus',\n",
       " '2000 pound',\n",
       " '2000 prize',\n",
       " '2003',\n",
       " '2003 account',\n",
       " '2004',\n",
       " '2004 account',\n",
       " '2004 must',\n",
       " '2004 offer',\n",
       " '2005',\n",
       " '2005 text',\n",
       " '2006',\n",
       " '2006 fifa',\n",
       " '2007',\n",
       " '2007 name',\n",
       " '2007 uk',\n",
       " '2025050',\n",
       " '2025050 or',\n",
       " '20m12aq',\n",
       " '20m12aq 150ppm',\n",
       " '20p',\n",
       " '20p min',\n",
       " '20p per',\n",
       " '21',\n",
       " '21 11',\n",
       " '21 from',\n",
       " '21 is',\n",
       " '21 matches',\n",
       " '21870000',\n",
       " '21870000 hi',\n",
       " '21st',\n",
       " '21st instead',\n",
       " '21st may',\n",
       " '22',\n",
       " '22 65',\n",
       " '22 days',\n",
       " '220',\n",
       " '220 cm2',\n",
       " '2309',\n",
       " '23f',\n",
       " '23f for',\n",
       " '23g',\n",
       " '24',\n",
       " '24 10',\n",
       " '24 7mp',\n",
       " '24 hrs',\n",
       " '24hrs',\n",
       " '24hrs for',\n",
       " '24hrs free',\n",
       " '24m',\n",
       " '24th',\n",
       " '24th sept',\n",
       " '25',\n",
       " '25 18',\n",
       " '25 and',\n",
       " '25 free',\n",
       " '25 is',\n",
       " '25 pass',\n",
       " '25 year',\n",
       " '250',\n",
       " '250 cash',\n",
       " '250 gift',\n",
       " '250 sms',\n",
       " '250 top',\n",
       " '250 want',\n",
       " '250 weekly',\n",
       " '250 wkly',\n",
       " '250k',\n",
       " '250k dream',\n",
       " '255',\n",
       " '255 all',\n",
       " '25p',\n",
       " '25p alfie',\n",
       " '25p free',\n",
       " '25p pm',\n",
       " '25p see',\n",
       " '26',\n",
       " '26 03',\n",
       " '26 11',\n",
       " '26 sorry',\n",
       " '2667',\n",
       " '2667 wc1n',\n",
       " '26th',\n",
       " '26th july',\n",
       " '26th of',\n",
       " '27',\n",
       " '27 03',\n",
       " '28',\n",
       " '28 days',\n",
       " '28 eh74rr',\n",
       " '2814032',\n",
       " '2814032 16',\n",
       " '28days',\n",
       " '28days cs',\n",
       " '28th',\n",
       " '28th feb',\n",
       " '29',\n",
       " '29 03',\n",
       " '29 10',\n",
       " '2b',\n",
       " '2b terminated',\n",
       " '2bold',\n",
       " '2c',\n",
       " '2c pics',\n",
       " '2channel',\n",
       " '2channel it',\n",
       " '2day',\n",
       " '2day 09099726395',\n",
       " '2day da',\n",
       " '2day goodmate',\n",
       " '2day is',\n",
       " '2day love',\n",
       " '2day night',\n",
       " '2day text',\n",
       " '2day ur',\n",
       " '2day wiv',\n",
       " '2docd',\n",
       " '2docd please',\n",
       " '2end',\n",
       " '2end send',\n",
       " '2exit',\n",
       " '2exit this',\n",
       " '2ez',\n",
       " '2ez 150ppm',\n",
       " '2find',\n",
       " '2find out',\n",
       " '2getha',\n",
       " '2geva',\n",
       " '2geva its',\n",
       " '2go',\n",
       " '2go did',\n",
       " '2go out',\n",
       " '2go thanx',\n",
       " '2hook',\n",
       " '2hook up',\n",
       " '2hrs',\n",
       " '2hrs because',\n",
       " '2i',\n",
       " '2i am',\n",
       " '2lands',\n",
       " '2lands row',\n",
       " '2marrow',\n",
       " '2marrow are',\n",
       " '2marrow only',\n",
       " '2moro',\n",
       " '2moro who',\n",
       " '2morow',\n",
       " '2morow after',\n",
       " '2morow luv',\n",
       " '2morro',\n",
       " '2morro half',\n",
       " '2morrow',\n",
       " '2morrow luv',\n",
       " '2morrow off',\n",
       " '2morrowxxxx',\n",
       " '2mro',\n",
       " '2mro am',\n",
       " '2mrw',\n",
       " '2mrw at',\n",
       " '2mrw love',\n",
       " ...]"
      ]
     },
     "execution_count": 35,
     "metadata": {},
     "output_type": "execute_result"
    }
   ],
   "source": [
    "vect2g = CountVectorizer(ngram_range=(1,2))\n",
    "vect2g.fit(X_train)\n",
    "vect2g.get_feature_names()"
   ]
  },
  {
   "cell_type": "code",
   "execution_count": 37,
   "metadata": {},
   "outputs": [],
   "source": [
    "X_train_2g = vect2g.transform(X_train)"
   ]
  },
  {
   "cell_type": "code",
   "execution_count": 38,
   "metadata": {},
   "outputs": [
    {
     "data": {
      "text/plain": [
       "(4457, 42696)"
      ]
     },
     "execution_count": 38,
     "metadata": {},
     "output_type": "execute_result"
    }
   ],
   "source": [
    "X_train_2g.shape"
   ]
  },
  {
   "cell_type": "code",
   "execution_count": 39,
   "metadata": {},
   "outputs": [
    {
     "data": {
      "text/plain": [
       "42696"
      ]
     },
     "execution_count": 39,
     "metadata": {},
     "output_type": "execute_result"
    }
   ],
   "source": [
    "len(vect2g.get_feature_names())"
   ]
  },
  {
   "cell_type": "code",
   "execution_count": 40,
   "metadata": {},
   "outputs": [],
   "source": [
    "X_test_2g = vect2g.transform(X_test)"
   ]
  },
  {
   "cell_type": "code",
   "execution_count": 42,
   "metadata": {},
   "outputs": [
    {
     "data": {
      "text/plain": [
       "(1115, 42696)"
      ]
     },
     "execution_count": 42,
     "metadata": {},
     "output_type": "execute_result"
    }
   ],
   "source": [
    "X_test_2g.shape"
   ]
  },
  {
   "cell_type": "markdown",
   "metadata": {},
   "source": [
    "# logistic regression 2gram"
   ]
  },
  {
   "cell_type": "code",
   "execution_count": 44,
   "metadata": {},
   "outputs": [],
   "source": [
    "from sklearn.linear_model import LogisticRegression"
   ]
  },
  {
   "cell_type": "code",
   "execution_count": 46,
   "metadata": {},
   "outputs": [
    {
     "name": "stdout",
     "output_type": "stream",
     "text": [
      "CPU times: user 416 ms, sys: 8 ms, total: 424 ms\n",
      "Wall time: 310 ms\n"
     ]
    },
    {
     "data": {
      "text/plain": [
       "LogisticRegression(C=1.0, class_weight=None, dual=False, fit_intercept=True,\n",
       "                   intercept_scaling=1, l1_ratio=None, max_iter=100,\n",
       "                   multi_class='warn', n_jobs=None, penalty='l2',\n",
       "                   random_state=None, solver='warn', tol=0.0001, verbose=0,\n",
       "                   warm_start=False)"
      ]
     },
     "execution_count": 46,
     "metadata": {},
     "output_type": "execute_result"
    }
   ],
   "source": [
    "lr = LogisticRegression()\n",
    "%time lr.fit(X_train_2g,y_train)"
   ]
  },
  {
   "cell_type": "code",
   "execution_count": 48,
   "metadata": {},
   "outputs": [
    {
     "data": {
      "text/plain": [
       "0.97847533632287"
      ]
     },
     "execution_count": 48,
     "metadata": {},
     "output_type": "execute_result"
    }
   ],
   "source": [
    "score_lr = lr.score(X_test_2g,y_test)\n",
    "score_lr"
   ]
  },
  {
   "cell_type": "code",
   "execution_count": 51,
   "metadata": {},
   "outputs": [],
   "source": [
    "yy_pred = lr.predict(X_test_2g)"
   ]
  },
  {
   "cell_type": "code",
   "execution_count": 52,
   "metadata": {},
   "outputs": [
    {
     "data": {
      "text/plain": [
       "array([0, 0, 0, 1, 0, 0, 0, 0, 0, 0])"
      ]
     },
     "execution_count": 52,
     "metadata": {},
     "output_type": "execute_result"
    }
   ],
   "source": [
    "yy_pred[:10]"
   ]
  },
  {
   "cell_type": "code",
   "execution_count": 53,
   "metadata": {},
   "outputs": [
    {
     "data": {
      "text/plain": [
       "array([[966,   0],\n",
       "       [ 24, 125]])"
      ]
     },
     "execution_count": 53,
     "metadata": {},
     "output_type": "execute_result"
    }
   ],
   "source": [
    "confusion_matrix(y_true = y_test,y_pred=yy_pred)"
   ]
  },
  {
   "cell_type": "code",
   "execution_count": 65,
   "metadata": {},
   "outputs": [
    {
     "name": "stdout",
     "output_type": "stream",
     "text": [
      "precision: 1.0\n",
      "recall: 0.8389261744966443\n",
      "f1-score: 0.9124087591240876\n"
     ]
    }
   ],
   "source": [
    "print(\"precision:\", precision_score(y_true=y_test, y_pred=yy_pred))\n",
    "print(\"recall:\", recall_score(y_true=y_test, y_pred=yy_pred))\n",
    "print(\"f1-score:\", f1_score(y_true=y_test, y_pred=yy_pred))"
   ]
  },
  {
   "cell_type": "markdown",
   "metadata": {},
   "source": [
    "# random forest 2 grams"
   ]
  },
  {
   "cell_type": "code",
   "execution_count": 55,
   "metadata": {},
   "outputs": [],
   "source": [
    "from sklearn.ensemble import RandomForestClassifier"
   ]
  },
  {
   "cell_type": "code",
   "execution_count": 56,
   "metadata": {},
   "outputs": [],
   "source": [
    "rf = RandomForestClassifier(random_state=42)"
   ]
  },
  {
   "cell_type": "code",
   "execution_count": 59,
   "metadata": {},
   "outputs": [],
   "source": [
    "rf_clf = rf.fit(X_train_2g,y_train)"
   ]
  },
  {
   "cell_type": "code",
   "execution_count": 60,
   "metadata": {},
   "outputs": [],
   "source": [
    "rf_score = rf_clf.score(X_test_2g,y_test)"
   ]
  },
  {
   "cell_type": "code",
   "execution_count": 61,
   "metadata": {},
   "outputs": [
    {
     "data": {
      "text/plain": [
       "0.9668161434977578"
      ]
     },
     "execution_count": 61,
     "metadata": {},
     "output_type": "execute_result"
    }
   ],
   "source": [
    "rf_score"
   ]
  },
  {
   "cell_type": "code",
   "execution_count": 62,
   "metadata": {},
   "outputs": [],
   "source": [
    "yyy_pred = rf_clf.predict(X_test_2g)"
   ]
  },
  {
   "cell_type": "code",
   "execution_count": 63,
   "metadata": {},
   "outputs": [
    {
     "data": {
      "text/plain": [
       "array([[966,   0],\n",
       "       [ 37, 112]])"
      ]
     },
     "execution_count": 63,
     "metadata": {},
     "output_type": "execute_result"
    }
   ],
   "source": [
    "confusion_matrix(y_true=y_test,y_pred=yyy_pred)"
   ]
  },
  {
   "cell_type": "code",
   "execution_count": 64,
   "metadata": {},
   "outputs": [
    {
     "name": "stdout",
     "output_type": "stream",
     "text": [
      "precision: 1.0\n",
      "recall: 0.7516778523489933\n",
      "f1-score: 0.8582375478927203\n"
     ]
    }
   ],
   "source": [
    "print(\"precision:\", precision_score(y_true=y_test, y_pred=yyy_pred))\n",
    "print(\"recall:\", recall_score(y_true=y_test, y_pred=yyy_pred))\n",
    "print(\"f1-score:\", f1_score(y_true=y_test, y_pred=yyy_pred))"
   ]
  },
  {
   "cell_type": "markdown",
   "metadata": {},
   "source": [
    "# using upsampling and downsampling techniques"
   ]
  },
  {
   "cell_type": "markdown",
   "metadata": {},
   "source": [
    "# upsampling"
   ]
  },
  {
   "cell_type": "code",
   "execution_count": 67,
   "metadata": {},
   "outputs": [],
   "source": [
    "from imblearn.over_sampling import SMOTE"
   ]
  },
  {
   "cell_type": "code",
   "execution_count": 68,
   "metadata": {},
   "outputs": [
    {
     "name": "stdout",
     "output_type": "stream",
     "text": [
      "Before OverSampling, counts of label '1': 598\n",
      "Before OverSampling, counts of label '0': 3859 \n",
      "\n"
     ]
    }
   ],
   "source": [
    "print(\"Before OverSampling, counts of label '1': {}\".format(sum(y_train==1)))\n",
    "print(\"Before OverSampling, counts of label '0': {} \\n\".format(sum(y_train==0)))"
   ]
  },
  {
   "cell_type": "code",
   "execution_count": 71,
   "metadata": {},
   "outputs": [],
   "source": [
    "sm = SMOTE(random_state=42)\n",
    "X_train_up,y_train_up = sm.fit_sample(X_train_dtm,y_train.ravel())"
   ]
  },
  {
   "cell_type": "code",
   "execution_count": 73,
   "metadata": {},
   "outputs": [
    {
     "name": "stdout",
     "output_type": "stream",
     "text": [
      "After OverSampling, the shape of train_X: (7718, 7668)\n",
      "After OverSampling, the shape of train_y: (7718,) \n",
      "\n",
      "After OverSampling, counts of label '1': 3859\n",
      "After OverSampling, counts of label '0': 3859\n"
     ]
    }
   ],
   "source": [
    "print('After OverSampling, the shape of train_X: {}'.format(X_train_up.shape))\n",
    "print('After OverSampling, the shape of train_y: {} \\n'.format(y_train_up.shape))\n",
    "\n",
    "print(\"After OverSampling, counts of label '1': {}\".format(sum(y_train_up==1)))\n",
    "print(\"After OverSampling, counts of label '0': {}\".format(sum(y_train_up==0)))"
   ]
  },
  {
   "cell_type": "markdown",
   "metadata": {},
   "source": [
    " # logistic regression after upsampling"
   ]
  },
  {
   "cell_type": "code",
   "execution_count": 78,
   "metadata": {},
   "outputs": [],
   "source": [
    "log_reg_up = LogisticRegression()"
   ]
  },
  {
   "cell_type": "code",
   "execution_count": 80,
   "metadata": {},
   "outputs": [],
   "source": [
    "lr_ups = log_reg_up.fit(X_train_up,y_train_up) "
   ]
  },
  {
   "cell_type": "code",
   "execution_count": 81,
   "metadata": {},
   "outputs": [],
   "source": [
    "lr_score = lr_ups.score(X_test_dtm,y_test)"
   ]
  },
  {
   "cell_type": "code",
   "execution_count": 82,
   "metadata": {},
   "outputs": [
    {
     "data": {
      "text/plain": [
       "0.9461883408071748"
      ]
     },
     "execution_count": 82,
     "metadata": {},
     "output_type": "execute_result"
    }
   ],
   "source": [
    "lr_score"
   ]
  },
  {
   "cell_type": "code",
   "execution_count": 83,
   "metadata": {},
   "outputs": [
    {
     "data": {
      "text/plain": [
       "(1115,)"
      ]
     },
     "execution_count": 83,
     "metadata": {},
     "output_type": "execute_result"
    }
   ],
   "source": [
    "y_test.shape"
   ]
  },
  {
   "cell_type": "code",
   "execution_count": 84,
   "metadata": {},
   "outputs": [
    {
     "data": {
      "text/plain": [
       "(1115, 7668)"
      ]
     },
     "execution_count": 84,
     "metadata": {},
     "output_type": "execute_result"
    }
   ],
   "source": [
    "X_test_dtm.shape"
   ]
  },
  {
   "cell_type": "code",
   "execution_count": 85,
   "metadata": {},
   "outputs": [],
   "source": [
    "y_pred_up = lr_ups.predict(X_test_dtm)"
   ]
  },
  {
   "cell_type": "code",
   "execution_count": 86,
   "metadata": {},
   "outputs": [
    {
     "data": {
      "text/plain": [
       "array([[919,  47],\n",
       "       [ 13, 136]])"
      ]
     },
     "execution_count": 86,
     "metadata": {},
     "output_type": "execute_result"
    }
   ],
   "source": [
    "confusion_matrix(y_true=y_test,y_pred=y_pred_up)"
   ]
  },
  {
   "cell_type": "code",
   "execution_count": 87,
   "metadata": {},
   "outputs": [
    {
     "name": "stdout",
     "output_type": "stream",
     "text": [
      "precision: 0.7431693989071039\n",
      "recall: 0.912751677852349\n",
      "f1-score: 0.819277108433735\n"
     ]
    }
   ],
   "source": [
    "print(\"precision:\", precision_score(y_true=y_test, y_pred=y_pred_up))\n",
    "print(\"recall:\", recall_score(y_true=y_test, y_pred=y_pred_up))\n",
    "print(\"f1-score:\", f1_score(y_true=y_test, y_pred=y_pred_up))"
   ]
  },
  {
   "cell_type": "markdown",
   "metadata": {},
   "source": [
    "# random forest after upsampling"
   ]
  },
  {
   "cell_type": "code",
   "execution_count": 88,
   "metadata": {},
   "outputs": [],
   "source": [
    "rnd_up = RandomForestClassifier(random_state =42)"
   ]
  },
  {
   "cell_type": "code",
   "execution_count": 89,
   "metadata": {},
   "outputs": [
    {
     "name": "stderr",
     "output_type": "stream",
     "text": [
      "/home/arjun/miniconda3/envs/num_exe/lib/python3.6/site-packages/sklearn/ensemble/forest.py:245: FutureWarning: The default value of n_estimators will change from 10 in version 0.20 to 100 in 0.22.\n",
      "  \"10 in version 0.20 to 100 in 0.22.\", FutureWarning)\n"
     ]
    }
   ],
   "source": [
    "rnd_ups = rnd_up.fit(X_train_up,y_train_up)"
   ]
  },
  {
   "cell_type": "code",
   "execution_count": 91,
   "metadata": {},
   "outputs": [],
   "source": [
    "rnd_ups_score = rnd_ups.score(X_test_dtm,y_test)"
   ]
  },
  {
   "cell_type": "code",
   "execution_count": 92,
   "metadata": {},
   "outputs": [
    {
     "data": {
      "text/plain": [
       "0.9273542600896861"
      ]
     },
     "execution_count": 92,
     "metadata": {},
     "output_type": "execute_result"
    }
   ],
   "source": [
    "rnd_ups_score"
   ]
  },
  {
   "cell_type": "code",
   "execution_count": 93,
   "metadata": {},
   "outputs": [],
   "source": [
    "y_pred_rnd = rnd_ups.predict(X_test_dtm)"
   ]
  },
  {
   "cell_type": "code",
   "execution_count": 94,
   "metadata": {},
   "outputs": [
    {
     "data": {
      "text/plain": [
       "array([[911,  55],\n",
       "       [ 26, 123]])"
      ]
     },
     "execution_count": 94,
     "metadata": {},
     "output_type": "execute_result"
    }
   ],
   "source": [
    "confusion_matrix(y_true = y_test,y_pred = y_pred_rnd)"
   ]
  },
  {
   "cell_type": "code",
   "execution_count": 95,
   "metadata": {},
   "outputs": [
    {
     "name": "stdout",
     "output_type": "stream",
     "text": [
      "precision: 0.6910112359550562\n",
      "recall: 0.825503355704698\n",
      "f1-score: 0.7522935779816513\n"
     ]
    }
   ],
   "source": [
    "print(\"precision:\", precision_score(y_true=y_test, y_pred=y_pred_rnd))\n",
    "print(\"recall:\", recall_score(y_true=y_test, y_pred=y_pred_rnd))\n",
    "print(\"f1-score:\", f1_score(y_true=y_test, y_pred=y_pred_rnd))"
   ]
  },
  {
   "cell_type": "markdown",
   "metadata": {},
   "source": [
    "# downsampling"
   ]
  },
  {
   "cell_type": "code",
   "execution_count": 141,
   "metadata": {},
   "outputs": [],
   "source": [
    "sms_data_ds = sms_data.sample(frac = 1,random_state = 42)"
   ]
  },
  {
   "cell_type": "code",
   "execution_count": 142,
   "metadata": {},
   "outputs": [],
   "source": [
    "spam = sms_data_ds.loc[sms_data_ds[\"target\"]==1]\n",
    "ham = sms_data_ds.loc[sms_data_ds[\"target\"]==0][:747]"
   ]
  },
  {
   "cell_type": "code",
   "execution_count": 143,
   "metadata": {},
   "outputs": [],
   "source": [
    "normal_distributed_data = pd.concat([spam,ham])"
   ]
  },
  {
   "cell_type": "code",
   "execution_count": 144,
   "metadata": {},
   "outputs": [],
   "source": [
    "sms_data_dsg = normal_distributed_data.sample(frac=1,random_state = 42)"
   ]
  },
  {
   "cell_type": "code",
   "execution_count": 145,
   "metadata": {},
   "outputs": [
    {
     "data": {
      "text/html": [
       "<div>\n",
       "<style scoped>\n",
       "    .dataframe tbody tr th:only-of-type {\n",
       "        vertical-align: middle;\n",
       "    }\n",
       "\n",
       "    .dataframe tbody tr th {\n",
       "        vertical-align: top;\n",
       "    }\n",
       "\n",
       "    .dataframe thead th {\n",
       "        text-align: right;\n",
       "    }\n",
       "</style>\n",
       "<table border=\"1\" class=\"dataframe\">\n",
       "  <thead>\n",
       "    <tr style=\"text-align: right;\">\n",
       "      <th></th>\n",
       "      <th>label</th>\n",
       "      <th>message</th>\n",
       "      <th>target</th>\n",
       "    </tr>\n",
       "  </thead>\n",
       "  <tbody>\n",
       "    <tr>\n",
       "      <th>3979</th>\n",
       "      <td>ham</td>\n",
       "      <td>Reason is if the team budget is available at l...</td>\n",
       "      <td>0</td>\n",
       "    </tr>\n",
       "    <tr>\n",
       "      <th>3803</th>\n",
       "      <td>ham</td>\n",
       "      <td>No da. I am happy that we sit together na</td>\n",
       "      <td>0</td>\n",
       "    </tr>\n",
       "    <tr>\n",
       "      <th>2306</th>\n",
       "      <td>ham</td>\n",
       "      <td>Still in the area of the restaurant. Ill try t...</td>\n",
       "      <td>0</td>\n",
       "    </tr>\n",
       "    <tr>\n",
       "      <th>3552</th>\n",
       "      <td>ham</td>\n",
       "      <td>I love you both too :-)</td>\n",
       "      <td>0</td>\n",
       "    </tr>\n",
       "    <tr>\n",
       "      <th>297</th>\n",
       "      <td>ham</td>\n",
       "      <td>Unless it's a situation where YOU GO GURL woul...</td>\n",
       "      <td>0</td>\n",
       "    </tr>\n",
       "  </tbody>\n",
       "</table>\n",
       "</div>"
      ],
      "text/plain": [
       "     label                                            message  target\n",
       "3979   ham  Reason is if the team budget is available at l...       0\n",
       "3803   ham          No da. I am happy that we sit together na       0\n",
       "2306   ham  Still in the area of the restaurant. Ill try t...       0\n",
       "3552   ham                            I love you both too :-)       0\n",
       "297    ham  Unless it's a situation where YOU GO GURL woul...       0"
      ]
     },
     "execution_count": 145,
     "metadata": {},
     "output_type": "execute_result"
    }
   ],
   "source": [
    "sms_data_dsg.head()"
   ]
  },
  {
   "cell_type": "code",
   "execution_count": 146,
   "metadata": {},
   "outputs": [
    {
     "data": {
      "text/plain": [
       "(1494, 3)"
      ]
     },
     "execution_count": 146,
     "metadata": {},
     "output_type": "execute_result"
    }
   ],
   "source": [
    "sms_data_dsg.shape"
   ]
  },
  {
   "cell_type": "code",
   "execution_count": 147,
   "metadata": {},
   "outputs": [],
   "source": [
    "X_dsg = sms_data_dsg.message\n",
    "y_dsg = sms_data_dsg.target"
   ]
  },
  {
   "cell_type": "code",
   "execution_count": 169,
   "metadata": {},
   "outputs": [
    {
     "name": "stdout",
     "output_type": "stream",
     "text": [
      "(1494,)\n",
      "(1494,)\n"
     ]
    }
   ],
   "source": [
    "print(X_dsg.shape)\n",
    "print(y_dsg.shape)"
   ]
  },
  {
   "cell_type": "code",
   "execution_count": 149,
   "metadata": {},
   "outputs": [
    {
     "data": {
      "text/plain": [
       "747"
      ]
     },
     "execution_count": 149,
     "metadata": {},
     "output_type": "execute_result"
    }
   ],
   "source": [
    "len(spam)"
   ]
  },
  {
   "cell_type": "code",
   "execution_count": 150,
   "metadata": {},
   "outputs": [
    {
     "data": {
      "text/plain": [
       "747"
      ]
     },
     "execution_count": 150,
     "metadata": {},
     "output_type": "execute_result"
    }
   ],
   "source": [
    "len(ham)"
   ]
  },
  {
   "cell_type": "code",
   "execution_count": 151,
   "metadata": {},
   "outputs": [],
   "source": [
    "X_train_ds,X_test_ds,y_train_ds,y_test_ds = train_test_split(X_dsg,y_dsg,test_size = 0.2,stratify = y_dsg,random_state = 42)"
   ]
  },
  {
   "cell_type": "code",
   "execution_count": 152,
   "metadata": {},
   "outputs": [
    {
     "name": "stdout",
     "output_type": "stream",
     "text": [
      "(1195,)\n",
      "(299,)\n",
      "(1195,)\n",
      "(299,)\n"
     ]
    }
   ],
   "source": [
    "print(X_train_ds.shape)\n",
    "print(X_test_ds.shape)\n",
    "print(y_train_ds.shape)\n",
    "print(y_test_ds.shape)"
   ]
  },
  {
   "cell_type": "code",
   "execution_count": 153,
   "metadata": {},
   "outputs": [
    {
     "data": {
      "text/plain": [
       "CountVectorizer(analyzer='word', binary=False, decode_error='strict',\n",
       "                dtype=<class 'numpy.int64'>, encoding='utf-8', input='content',\n",
       "                lowercase=True, max_df=1.0, max_features=None, min_df=1,\n",
       "                ngram_range=(1, 1), preprocessor=None, stop_words=None,\n",
       "                strip_accents=None, token_pattern='(?u)\\\\b\\\\w\\\\w+\\\\b',\n",
       "                tokenizer=None, vocabulary=None)"
      ]
     },
     "execution_count": 153,
     "metadata": {},
     "output_type": "execute_result"
    }
   ],
   "source": [
    "ds_vect = CountVectorizer()\n",
    "ds_vect.fit(X_train_ds)"
   ]
  },
  {
   "cell_type": "code",
   "execution_count": 154,
   "metadata": {},
   "outputs": [],
   "source": [
    "X_train_ds = ds_vect.transform(X_train_ds) "
   ]
  },
  {
   "cell_type": "code",
   "execution_count": 155,
   "metadata": {},
   "outputs": [],
   "source": [
    "X_test_ds = ds_vect.transform(X_test_ds)"
   ]
  },
  {
   "cell_type": "code",
   "execution_count": 156,
   "metadata": {},
   "outputs": [
    {
     "name": "stdout",
     "output_type": "stream",
     "text": [
      "(1195, 4063)\n",
      "(299, 4063)\n"
     ]
    }
   ],
   "source": [
    "print(X_train_ds.shape)\n",
    "print(X_test_ds.shape)"
   ]
  },
  {
   "cell_type": "markdown",
   "metadata": {},
   "source": [
    "# logistic regression downsampling"
   ]
  },
  {
   "cell_type": "code",
   "execution_count": 157,
   "metadata": {},
   "outputs": [
    {
     "name": "stderr",
     "output_type": "stream",
     "text": [
      "/home/arjun/miniconda3/envs/num_exe/lib/python3.6/site-packages/sklearn/linear_model/logistic.py:432: FutureWarning: Default solver will be changed to 'lbfgs' in 0.22. Specify a solver to silence this warning.\n",
      "  FutureWarning)\n"
     ]
    },
    {
     "data": {
      "text/plain": [
       "LogisticRegression(C=1.0, class_weight=None, dual=False, fit_intercept=True,\n",
       "                   intercept_scaling=1, l1_ratio=None, max_iter=100,\n",
       "                   multi_class='warn', n_jobs=None, penalty='l2',\n",
       "                   random_state=None, solver='warn', tol=0.0001, verbose=0,\n",
       "                   warm_start=False)"
      ]
     },
     "execution_count": 157,
     "metadata": {},
     "output_type": "execute_result"
    }
   ],
   "source": [
    "log_reg_dsg = LogisticRegression()\n",
    "log_reg_dsg.fit(X_train_ds,y_train_ds)"
   ]
  },
  {
   "cell_type": "code",
   "execution_count": 158,
   "metadata": {},
   "outputs": [],
   "source": [
    "log_ds_score = log_reg_dsg.score(X_test_ds,y_test_ds)"
   ]
  },
  {
   "cell_type": "code",
   "execution_count": 159,
   "metadata": {},
   "outputs": [
    {
     "data": {
      "text/plain": [
       "0.9531772575250836"
      ]
     },
     "execution_count": 159,
     "metadata": {},
     "output_type": "execute_result"
    }
   ],
   "source": [
    "log_ds_score"
   ]
  },
  {
   "cell_type": "code",
   "execution_count": 160,
   "metadata": {},
   "outputs": [],
   "source": [
    "y_pred_ds = log_reg_dsg.predict(X_test_ds)"
   ]
  },
  {
   "cell_type": "code",
   "execution_count": 161,
   "metadata": {},
   "outputs": [
    {
     "data": {
      "text/plain": [
       "array([[147,   3],\n",
       "       [ 11, 138]])"
      ]
     },
     "execution_count": 161,
     "metadata": {},
     "output_type": "execute_result"
    }
   ],
   "source": [
    "confusion_matrix(y_true = y_test_ds,y_pred = y_pred_ds)"
   ]
  },
  {
   "cell_type": "code",
   "execution_count": 162,
   "metadata": {},
   "outputs": [
    {
     "name": "stdout",
     "output_type": "stream",
     "text": [
      "precision: 0.9787234042553191\n",
      "recall: 0.9261744966442953\n",
      "f1-score: 0.9517241379310345\n"
     ]
    }
   ],
   "source": [
    "print(\"precision:\", precision_score(y_true=y_test_ds, y_pred=y_pred_ds))\n",
    "print(\"recall:\", recall_score(y_true=y_test_ds, y_pred=y_pred_ds))\n",
    "print(\"f1-score:\", f1_score(y_true=y_test_ds, y_pred=y_pred_ds))"
   ]
  },
  {
   "cell_type": "markdown",
   "metadata": {},
   "source": [
    "# random forest downsampling"
   ]
  },
  {
   "cell_type": "code",
   "execution_count": 163,
   "metadata": {},
   "outputs": [],
   "source": [
    "rnd_ds = RandomForestClassifier(random_state=42)"
   ]
  },
  {
   "cell_type": "code",
   "execution_count": 164,
   "metadata": {},
   "outputs": [
    {
     "name": "stderr",
     "output_type": "stream",
     "text": [
      "/home/arjun/miniconda3/envs/num_exe/lib/python3.6/site-packages/sklearn/ensemble/forest.py:245: FutureWarning: The default value of n_estimators will change from 10 in version 0.20 to 100 in 0.22.\n",
      "  \"10 in version 0.20 to 100 in 0.22.\", FutureWarning)\n"
     ]
    },
    {
     "data": {
      "text/plain": [
       "RandomForestClassifier(bootstrap=True, class_weight=None, criterion='gini',\n",
       "                       max_depth=None, max_features='auto', max_leaf_nodes=None,\n",
       "                       min_impurity_decrease=0.0, min_impurity_split=None,\n",
       "                       min_samples_leaf=1, min_samples_split=2,\n",
       "                       min_weight_fraction_leaf=0.0, n_estimators=10,\n",
       "                       n_jobs=None, oob_score=False, random_state=42, verbose=0,\n",
       "                       warm_start=False)"
      ]
     },
     "execution_count": 164,
     "metadata": {},
     "output_type": "execute_result"
    }
   ],
   "source": [
    "rnd_ds.fit(X_train_ds,y_train_ds)"
   ]
  },
  {
   "cell_type": "code",
   "execution_count": 165,
   "metadata": {},
   "outputs": [
    {
     "data": {
      "text/plain": [
       "0.9464882943143813"
      ]
     },
     "execution_count": 165,
     "metadata": {},
     "output_type": "execute_result"
    }
   ],
   "source": [
    "rnd_ds_score = rnd_ds.score(X_test_ds,y_test_ds)\n",
    "rnd_ds_score"
   ]
  },
  {
   "cell_type": "code",
   "execution_count": 166,
   "metadata": {},
   "outputs": [],
   "source": [
    "y_pred_rnd_ds = rnd_ds.predict(X_test_ds) "
   ]
  },
  {
   "cell_type": "code",
   "execution_count": 167,
   "metadata": {},
   "outputs": [
    {
     "data": {
      "text/plain": [
       "array([[148,   2],\n",
       "       [ 14, 135]])"
      ]
     },
     "execution_count": 167,
     "metadata": {},
     "output_type": "execute_result"
    }
   ],
   "source": [
    "confusion_matrix(y_true = y_test_ds,y_pred = y_pred_rnd_ds)"
   ]
  },
  {
   "cell_type": "code",
   "execution_count": 168,
   "metadata": {},
   "outputs": [
    {
     "name": "stdout",
     "output_type": "stream",
     "text": [
      "precision: 0.9854014598540146\n",
      "recall: 0.9060402684563759\n",
      "f1-score: 0.944055944055944\n"
     ]
    }
   ],
   "source": [
    "print(\"precision:\", precision_score(y_true=y_test_ds, y_pred=y_pred_rnd_ds))\n",
    "print(\"recall:\", recall_score(y_true=y_test_ds, y_pred=y_pred_rnd_ds))\n",
    "print(\"f1-score:\", f1_score(y_true=y_test_ds, y_pred=y_pred_rnd_ds))"
   ]
  },
  {
   "cell_type": "code",
   "execution_count": null,
   "metadata": {},
   "outputs": [],
   "source": []
  }
 ],
 "metadata": {
  "kernelspec": {
   "display_name": "Python 3",
   "language": "python",
   "name": "python3"
  },
  "language_info": {
   "codemirror_mode": {
    "name": "ipython",
    "version": 3
   },
   "file_extension": ".py",
   "mimetype": "text/x-python",
   "name": "python",
   "nbconvert_exporter": "python",
   "pygments_lexer": "ipython3",
   "version": "3.6.7"
  }
 },
 "nbformat": 4,
 "nbformat_minor": 2
}
